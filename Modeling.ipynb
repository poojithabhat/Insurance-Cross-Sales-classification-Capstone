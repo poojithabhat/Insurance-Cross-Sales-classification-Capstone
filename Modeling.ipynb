{
 "cells": [
  {
   "cell_type": "markdown",
   "metadata": {},
   "source": [
    "## Importing required modules"
   ]
  },
  {
   "cell_type": "code",
   "execution_count": 1,
   "metadata": {},
   "outputs": [],
   "source": [
    "import sklearn\n",
    "from sklearn.linear_model import LogisticRegression\n",
    "from sklearn.tree import DecisionTreeClassifier\n",
    "from sklearn.svm import SVC\n",
    "from sklearn.linear_model import LogisticRegression\n",
    "from sklearn.ensemble import GradientBoostingClassifier\n",
    "from sklearn.ensemble import RandomForestClassifier\n",
    "\n",
    "from sklearn.metrics import accuracy_score\n",
    "from sklearn.metrics import recall_score\n",
    "from sklearn.metrics import precision_score\n",
    "from sklearn.metrics import f1_score\n",
    "from sklearn.metrics import classification_report, confusion_matrix, roc_curve, auc,roc_auc_score\n",
    "\n",
    "from sklearn.model_selection import GridSearchCV\n",
    "\n",
    "import pandas as pd\n",
    "import numpy as np"
   ]
  },
  {
   "cell_type": "code",
   "execution_count": 2,
   "metadata": {},
   "outputs": [],
   "source": [
    "insurance =pd.read_csv('balanced_insurance_dataset.csv')"
   ]
  },
  {
   "cell_type": "code",
   "execution_count": 7,
   "metadata": {},
   "outputs": [
    {
     "data": {
      "text/html": [
       "<div>\n",
       "<style scoped>\n",
       "    .dataframe tbody tr th:only-of-type {\n",
       "        vertical-align: middle;\n",
       "    }\n",
       "\n",
       "    .dataframe tbody tr th {\n",
       "        vertical-align: top;\n",
       "    }\n",
       "\n",
       "    .dataframe thead th {\n",
       "        text-align: right;\n",
       "    }\n",
       "</style>\n",
       "<table border=\"1\" class=\"dataframe\">\n",
       "  <thead>\n",
       "    <tr style=\"text-align: right;\">\n",
       "      <th></th>\n",
       "      <th>Unnamed: 0</th>\n",
       "      <th>id</th>\n",
       "      <th>Driving_License</th>\n",
       "      <th>Previously_Insured</th>\n",
       "      <th>Vehicle_Damage</th>\n",
       "      <th>Age_Segment_20s</th>\n",
       "      <th>Age_Segment_30s</th>\n",
       "      <th>Age_Segment_40s</th>\n",
       "      <th>Age_Segment_50s</th>\n",
       "      <th>Age_Segment_60s</th>\n",
       "      <th>...</th>\n",
       "      <th>Policy_channel_type_others</th>\n",
       "      <th>Region_Andhra Pradesh</th>\n",
       "      <th>Region_Goa</th>\n",
       "      <th>Region_Haryana</th>\n",
       "      <th>Region_Maharashtra</th>\n",
       "      <th>Region_Others</th>\n",
       "      <th>Region_West Bengal</th>\n",
       "      <th>Gender_F</th>\n",
       "      <th>Gender_M</th>\n",
       "      <th>Response</th>\n",
       "    </tr>\n",
       "  </thead>\n",
       "  <tbody>\n",
       "    <tr>\n",
       "      <th>0</th>\n",
       "      <td>0</td>\n",
       "      <td>1</td>\n",
       "      <td>1</td>\n",
       "      <td>0</td>\n",
       "      <td>1</td>\n",
       "      <td>0</td>\n",
       "      <td>0</td>\n",
       "      <td>1</td>\n",
       "      <td>0</td>\n",
       "      <td>0</td>\n",
       "      <td>...</td>\n",
       "      <td>0</td>\n",
       "      <td>0</td>\n",
       "      <td>0</td>\n",
       "      <td>0</td>\n",
       "      <td>0</td>\n",
       "      <td>0</td>\n",
       "      <td>1</td>\n",
       "      <td>0</td>\n",
       "      <td>1</td>\n",
       "      <td>1</td>\n",
       "    </tr>\n",
       "    <tr>\n",
       "      <th>1</th>\n",
       "      <td>1</td>\n",
       "      <td>2</td>\n",
       "      <td>1</td>\n",
       "      <td>0</td>\n",
       "      <td>0</td>\n",
       "      <td>0</td>\n",
       "      <td>0</td>\n",
       "      <td>0</td>\n",
       "      <td>0</td>\n",
       "      <td>0</td>\n",
       "      <td>...</td>\n",
       "      <td>0</td>\n",
       "      <td>0</td>\n",
       "      <td>0</td>\n",
       "      <td>0</td>\n",
       "      <td>0</td>\n",
       "      <td>1</td>\n",
       "      <td>0</td>\n",
       "      <td>0</td>\n",
       "      <td>1</td>\n",
       "      <td>0</td>\n",
       "    </tr>\n",
       "    <tr>\n",
       "      <th>2</th>\n",
       "      <td>2</td>\n",
       "      <td>3</td>\n",
       "      <td>1</td>\n",
       "      <td>0</td>\n",
       "      <td>1</td>\n",
       "      <td>0</td>\n",
       "      <td>0</td>\n",
       "      <td>1</td>\n",
       "      <td>0</td>\n",
       "      <td>0</td>\n",
       "      <td>...</td>\n",
       "      <td>0</td>\n",
       "      <td>0</td>\n",
       "      <td>0</td>\n",
       "      <td>0</td>\n",
       "      <td>0</td>\n",
       "      <td>0</td>\n",
       "      <td>1</td>\n",
       "      <td>0</td>\n",
       "      <td>1</td>\n",
       "      <td>1</td>\n",
       "    </tr>\n",
       "    <tr>\n",
       "      <th>3</th>\n",
       "      <td>3</td>\n",
       "      <td>4</td>\n",
       "      <td>1</td>\n",
       "      <td>1</td>\n",
       "      <td>0</td>\n",
       "      <td>1</td>\n",
       "      <td>0</td>\n",
       "      <td>0</td>\n",
       "      <td>0</td>\n",
       "      <td>0</td>\n",
       "      <td>...</td>\n",
       "      <td>0</td>\n",
       "      <td>0</td>\n",
       "      <td>0</td>\n",
       "      <td>0</td>\n",
       "      <td>0</td>\n",
       "      <td>1</td>\n",
       "      <td>0</td>\n",
       "      <td>0</td>\n",
       "      <td>1</td>\n",
       "      <td>0</td>\n",
       "    </tr>\n",
       "    <tr>\n",
       "      <th>4</th>\n",
       "      <td>4</td>\n",
       "      <td>5</td>\n",
       "      <td>1</td>\n",
       "      <td>1</td>\n",
       "      <td>0</td>\n",
       "      <td>1</td>\n",
       "      <td>0</td>\n",
       "      <td>0</td>\n",
       "      <td>0</td>\n",
       "      <td>0</td>\n",
       "      <td>...</td>\n",
       "      <td>0</td>\n",
       "      <td>1</td>\n",
       "      <td>0</td>\n",
       "      <td>0</td>\n",
       "      <td>0</td>\n",
       "      <td>0</td>\n",
       "      <td>0</td>\n",
       "      <td>1</td>\n",
       "      <td>0</td>\n",
       "      <td>0</td>\n",
       "    </tr>\n",
       "    <tr>\n",
       "      <th>5</th>\n",
       "      <td>5</td>\n",
       "      <td>6</td>\n",
       "      <td>1</td>\n",
       "      <td>0</td>\n",
       "      <td>1</td>\n",
       "      <td>1</td>\n",
       "      <td>0</td>\n",
       "      <td>0</td>\n",
       "      <td>0</td>\n",
       "      <td>0</td>\n",
       "      <td>...</td>\n",
       "      <td>0</td>\n",
       "      <td>0</td>\n",
       "      <td>0</td>\n",
       "      <td>0</td>\n",
       "      <td>0</td>\n",
       "      <td>1</td>\n",
       "      <td>0</td>\n",
       "      <td>1</td>\n",
       "      <td>0</td>\n",
       "      <td>0</td>\n",
       "    </tr>\n",
       "    <tr>\n",
       "      <th>6</th>\n",
       "      <td>6</td>\n",
       "      <td>7</td>\n",
       "      <td>1</td>\n",
       "      <td>0</td>\n",
       "      <td>1</td>\n",
       "      <td>1</td>\n",
       "      <td>0</td>\n",
       "      <td>0</td>\n",
       "      <td>0</td>\n",
       "      <td>0</td>\n",
       "      <td>...</td>\n",
       "      <td>0</td>\n",
       "      <td>0</td>\n",
       "      <td>0</td>\n",
       "      <td>0</td>\n",
       "      <td>0</td>\n",
       "      <td>1</td>\n",
       "      <td>0</td>\n",
       "      <td>0</td>\n",
       "      <td>1</td>\n",
       "      <td>0</td>\n",
       "    </tr>\n",
       "    <tr>\n",
       "      <th>7</th>\n",
       "      <td>7</td>\n",
       "      <td>8</td>\n",
       "      <td>1</td>\n",
       "      <td>0</td>\n",
       "      <td>1</td>\n",
       "      <td>0</td>\n",
       "      <td>0</td>\n",
       "      <td>0</td>\n",
       "      <td>1</td>\n",
       "      <td>0</td>\n",
       "      <td>...</td>\n",
       "      <td>0</td>\n",
       "      <td>0</td>\n",
       "      <td>0</td>\n",
       "      <td>0</td>\n",
       "      <td>0</td>\n",
       "      <td>0</td>\n",
       "      <td>1</td>\n",
       "      <td>1</td>\n",
       "      <td>0</td>\n",
       "      <td>1</td>\n",
       "    </tr>\n",
       "    <tr>\n",
       "      <th>8</th>\n",
       "      <td>8</td>\n",
       "      <td>9</td>\n",
       "      <td>1</td>\n",
       "      <td>1</td>\n",
       "      <td>0</td>\n",
       "      <td>1</td>\n",
       "      <td>0</td>\n",
       "      <td>0</td>\n",
       "      <td>0</td>\n",
       "      <td>0</td>\n",
       "      <td>...</td>\n",
       "      <td>0</td>\n",
       "      <td>0</td>\n",
       "      <td>0</td>\n",
       "      <td>0</td>\n",
       "      <td>0</td>\n",
       "      <td>1</td>\n",
       "      <td>0</td>\n",
       "      <td>1</td>\n",
       "      <td>0</td>\n",
       "      <td>0</td>\n",
       "    </tr>\n",
       "    <tr>\n",
       "      <th>9</th>\n",
       "      <td>9</td>\n",
       "      <td>10</td>\n",
       "      <td>1</td>\n",
       "      <td>1</td>\n",
       "      <td>0</td>\n",
       "      <td>0</td>\n",
       "      <td>1</td>\n",
       "      <td>0</td>\n",
       "      <td>0</td>\n",
       "      <td>0</td>\n",
       "      <td>...</td>\n",
       "      <td>0</td>\n",
       "      <td>0</td>\n",
       "      <td>0</td>\n",
       "      <td>0</td>\n",
       "      <td>0</td>\n",
       "      <td>1</td>\n",
       "      <td>0</td>\n",
       "      <td>1</td>\n",
       "      <td>0</td>\n",
       "      <td>0</td>\n",
       "    </tr>\n",
       "  </tbody>\n",
       "</table>\n",
       "<p>10 rows × 44 columns</p>\n",
       "</div>"
      ],
      "text/plain": [
       "   Unnamed: 0  id  Driving_License  Previously_Insured  Vehicle_Damage  \\\n",
       "0           0   1                1                   0               1   \n",
       "1           1   2                1                   0               0   \n",
       "2           2   3                1                   0               1   \n",
       "3           3   4                1                   1               0   \n",
       "4           4   5                1                   1               0   \n",
       "5           5   6                1                   0               1   \n",
       "6           6   7                1                   0               1   \n",
       "7           7   8                1                   0               1   \n",
       "8           8   9                1                   1               0   \n",
       "9           9  10                1                   1               0   \n",
       "\n",
       "   Age_Segment_20s  Age_Segment_30s  Age_Segment_40s  Age_Segment_50s  \\\n",
       "0                0                0                1                0   \n",
       "1                0                0                0                0   \n",
       "2                0                0                1                0   \n",
       "3                1                0                0                0   \n",
       "4                1                0                0                0   \n",
       "5                1                0                0                0   \n",
       "6                1                0                0                0   \n",
       "7                0                0                0                1   \n",
       "8                1                0                0                0   \n",
       "9                0                1                0                0   \n",
       "\n",
       "   Age_Segment_60s  ...  Policy_channel_type_others  Region_Andhra Pradesh  \\\n",
       "0                0  ...                           0                      0   \n",
       "1                0  ...                           0                      0   \n",
       "2                0  ...                           0                      0   \n",
       "3                0  ...                           0                      0   \n",
       "4                0  ...                           0                      1   \n",
       "5                0  ...                           0                      0   \n",
       "6                0  ...                           0                      0   \n",
       "7                0  ...                           0                      0   \n",
       "8                0  ...                           0                      0   \n",
       "9                0  ...                           0                      0   \n",
       "\n",
       "   Region_Goa  Region_Haryana  Region_Maharashtra  Region_Others  \\\n",
       "0           0               0                   0              0   \n",
       "1           0               0                   0              1   \n",
       "2           0               0                   0              0   \n",
       "3           0               0                   0              1   \n",
       "4           0               0                   0              0   \n",
       "5           0               0                   0              1   \n",
       "6           0               0                   0              1   \n",
       "7           0               0                   0              0   \n",
       "8           0               0                   0              1   \n",
       "9           0               0                   0              1   \n",
       "\n",
       "   Region_West Bengal  Gender_F  Gender_M  Response  \n",
       "0                   1         0         1         1  \n",
       "1                   0         0         1         0  \n",
       "2                   1         0         1         1  \n",
       "3                   0         0         1         0  \n",
       "4                   0         1         0         0  \n",
       "5                   0         1         0         0  \n",
       "6                   0         0         1         0  \n",
       "7                   1         1         0         1  \n",
       "8                   0         1         0         0  \n",
       "9                   0         1         0         0  \n",
       "\n",
       "[10 rows x 44 columns]"
      ]
     },
     "execution_count": 7,
     "metadata": {},
     "output_type": "execute_result"
    }
   ],
   "source": [
    "insurance.head(10)"
   ]
  },
  {
   "cell_type": "markdown",
   "metadata": {},
   "source": [
    "The field unnamed 0 is unnecessary. to be dropped."
   ]
  },
  {
   "cell_type": "markdown",
   "metadata": {},
   "source": [
    "## Train test split for model training and testing"
   ]
  },
  {
   "cell_type": "code",
   "execution_count": 3,
   "metadata": {},
   "outputs": [],
   "source": [
    "from sklearn.model_selection import train_test_split\n",
    "\n",
    "X = insurance.drop(['Response', 'Unnamed: 0'], axis=1)\n",
    "y = insurance['Response']\n",
    "X_train, X_test, y_train, y_test = train_test_split(X,y, test_size =0.3)"
   ]
  },
  {
   "cell_type": "code",
   "execution_count": 4,
   "metadata": {},
   "outputs": [
    {
     "name": "stdout",
     "output_type": "stream",
     "text": [
      "shape of X_train: (467241, 42) ,Shape of y_train: (467241,) Shape of X_test: (200247, 42) Shape of y_test: (200247,)\n"
     ]
    }
   ],
   "source": [
    "print('shape of X_train:' , X_train.shape,  ',Shape of y_train:', y_train.shape, 'Shape of X_test:', X_test.shape, 'Shape of y_test:' ,y_test.shape)"
   ]
  },
  {
   "cell_type": "markdown",
   "metadata": {},
   "source": [
    "# Model training"
   ]
  },
  {
   "cell_type": "markdown",
   "metadata": {},
   "source": [
    "## Logistic Regression"
   ]
  },
  {
   "cell_type": "code",
   "execution_count": 5,
   "metadata": {},
   "outputs": [],
   "source": [
    "logreg = LogisticRegression()\n",
    "logreg_model = logreg.fit(X_train, y_train)"
   ]
  },
  {
   "cell_type": "code",
   "execution_count": 6,
   "metadata": {},
   "outputs": [],
   "source": [
    "y_predicted =logreg_model.predict(X_test)"
   ]
  },
  {
   "cell_type": "code",
   "execution_count": 69,
   "metadata": {},
   "outputs": [
    {
     "name": "stdout",
     "output_type": "stream",
     "text": [
      "Logistic Regression Performance\n",
      "Accuracy:  0.8609517246200942\n",
      "Recall:  0.8484620358842208\n",
      "Precision:  0.8786343238083816\n",
      "f1 score:  0.8632846256579464\n",
      "roc_auc_score:  0.861402465435798\n"
     ]
    }
   ],
   "source": [
    "print('Logistic Regression Performance')\n",
    "print('Accuracy: ' ,accuracy_score(logreg_model.predict(X_test),y_test))\n",
    "print( 'Recall: ' ,recall_score(logreg_model.predict(X_test),y_test))\n",
    "print('Precision: ' ,precision_score(logreg_model.predict(X_test),y_test))\n",
    "print('f1 score: ' ,f1_score(logreg_model.predict(X_test),y_test))\n",
    "print('roc_auc_score: ' ,roc_auc_score(logreg_model.predict(X_test),y_test))"
   ]
  },
  {
   "cell_type": "markdown",
   "metadata": {},
   "source": [
    "The model is giving an accuracy of 86% on the test set. Recall is ~85% and Precision is ~88%.\n",
    "Since we are more concerned about not letting any potential leads out of hand and also optimize the resources, we can work on the roc_auc metric."
   ]
  },
  {
   "cell_type": "code",
   "execution_count": 22,
   "metadata": {},
   "outputs": [
    {
     "name": "stdout",
     "output_type": "stream",
     "text": [
      "roc_curve:  (array([0.        , 0.12565711, 1.        ]), array([0.        , 0.84846204, 1.        ]), array([2, 1, 0], dtype=int64))\n"
     ]
    },
    {
     "data": {
      "image/png": "[encoded data removed]",
      "text/plain": [
       "<Figure size 432x288 with 1 Axes>"
      ]
     },
     "metadata": {
      "needs_background": "light"
     },
     "output_type": "display_data"
    }
   ],
   "source": [
    "import matplotlib.pyplot as plt\n",
    "print('roc_curve: ' ,roc_curve(logreg_model.predict(X_test),y_test))\n",
    "fpr_logreg,tpr_logreg,threshold_logreg = roc_curve(logreg_model.predict(X_test),y_test)\n",
    "roc_auc_logreg = auc(fpr_logreg,tpr_logreg)\n",
    "plt.title('Receiver Operating Characteristic')\n",
    "plt.plot(fpr_logreg, tpr_logreg, 'b',label = 'AUC = %0.4f' % roc_auc)\n",
    "plt.legend(loc = 'lower right')\n",
    "plt.plot([0, 1], [0, 1],'r--')\n",
    "plt.xlim([0, 1])\n",
    "plt.ylim([0, 1])\n",
    "plt.ylabel('True Positive Rate')\n",
    "plt.xlabel('False Positive Rate')\n",
    "plt.show()"
   ]
  },
  {
   "cell_type": "code",
   "execution_count": 15,
   "metadata": {
    "scrolled": true
   },
   "outputs": [
    {
     "data": {
      "text/plain": [
       "['accuracy',\n",
       " 'adjusted_mutual_info_score',\n",
       " 'adjusted_rand_score',\n",
       " 'average_precision',\n",
       " 'balanced_accuracy',\n",
       " 'completeness_score',\n",
       " 'explained_variance',\n",
       " 'f1',\n",
       " 'f1_macro',\n",
       " 'f1_micro',\n",
       " 'f1_samples',\n",
       " 'f1_weighted',\n",
       " 'fowlkes_mallows_score',\n",
       " 'homogeneity_score',\n",
       " 'jaccard',\n",
       " 'jaccard_macro',\n",
       " 'jaccard_micro',\n",
       " 'jaccard_samples',\n",
       " 'jaccard_weighted',\n",
       " 'max_error',\n",
       " 'mutual_info_score',\n",
       " 'neg_brier_score',\n",
       " 'neg_log_loss',\n",
       " 'neg_mean_absolute_error',\n",
       " 'neg_mean_absolute_percentage_error',\n",
       " 'neg_mean_gamma_deviance',\n",
       " 'neg_mean_poisson_deviance',\n",
       " 'neg_mean_squared_error',\n",
       " 'neg_mean_squared_log_error',\n",
       " 'neg_median_absolute_error',\n",
       " 'neg_root_mean_squared_error',\n",
       " 'normalized_mutual_info_score',\n",
       " 'precision',\n",
       " 'precision_macro',\n",
       " 'precision_micro',\n",
       " 'precision_samples',\n",
       " 'precision_weighted',\n",
       " 'r2',\n",
       " 'rand_score',\n",
       " 'recall',\n",
       " 'recall_macro',\n",
       " 'recall_micro',\n",
       " 'recall_samples',\n",
       " 'recall_weighted',\n",
       " 'roc_auc',\n",
       " 'roc_auc_ovo',\n",
       " 'roc_auc_ovo_weighted',\n",
       " 'roc_auc_ovr',\n",
       " 'roc_auc_ovr_weighted',\n",
       " 'top_k_accuracy',\n",
       " 'v_measure_score']"
      ]
     },
     "execution_count": 15,
     "metadata": {},
     "output_type": "execute_result"
    }
   ],
   "source": [
    "# Listing out a range of Regularization parameters Cs to fit the Logistic regression model\n",
    "C =[0.01, 0.1, 1, 10, 100, 1000]\n",
    "\n",
    "#Listing out all scoring metrices on gridsearchcv to find the metric for roc_auc\n",
    "sorted(sklearn.metrics.SCORERS.keys())"
   ]
  },
  {
   "cell_type": "code",
   "execution_count": 16,
   "metadata": {},
   "outputs": [],
   "source": [
    "gridsearch_logreg= GridSearchCV(logreg, param_grid = {'C': C}, cv =5, scoring= 'roc_auc')"
   ]
  },
  {
   "cell_type": "code",
   "execution_count": 17,
   "metadata": {},
   "outputs": [],
   "source": [
    "model_logreg = gridsearch_logreg.fit(X_train,y_train)"
   ]
  },
  {
   "cell_type": "code",
   "execution_count": 19,
   "metadata": {},
   "outputs": [
    {
     "name": "stdout",
     "output_type": "stream",
     "text": [
      "{'C': 0.01} 0.7741558997158886\n"
     ]
    }
   ],
   "source": [
    "print(model_logreg.best_params_,model_logreg.best_score_)"
   ]
  },
  {
   "cell_type": "markdown",
   "metadata": {},
   "source": [
    "With regularization value of 0.01 we can get an roc_auc of 0.774 on the model.\n",
    "\n",
    "Let's compare the logistic regression plot with the new plot of the optimized model."
   ]
  },
  {
   "cell_type": "code",
   "execution_count": 23,
   "metadata": {},
   "outputs": [
    {
     "data": {
      "image/png": "[encoded data removed]",
      "text/plain": [
       "<Figure size 432x288 with 1 Axes>"
      ]
     },
     "metadata": {
      "needs_background": "light"
     },
     "output_type": "display_data"
    }
   ],
   "source": [
    "logreg =LogisticRegression(C=0.01)\n",
    "best_logreg_model = logreg.fit(X_train, y_train)\n",
    "fpr_logreg_best,tpr_logreg_best,threshold_logreg_best = roc_curve(best_logreg_model.predict(X_test),y_test)\n",
    "roc_auc_logreg_best = auc(fpr_logreg_best,tpr_logreg_best)\n",
    "plt.title('Receiver Operating Characteristic')\n",
    "plt.plot(fpr_logreg_best,tpr_logreg_best, 'b',label = 'AUC = %0.4f' % roc_auc_logreg_best)\n",
    "plt.plot(fpr_logreg,tpr_logreg, 'g',label = 'AUC = %0.4f' % roc_auc_logreg)\n",
    "plt.legend(loc = 'lower right')\n",
    "plt.plot([0, 1], [0, 1],'r--')\n",
    "plt.xlim([0, 1])\n",
    "plt.ylim([0, 1])\n",
    "plt.ylabel('True Positive Rate')\n",
    "plt.xlabel('False Positive Rate')\n",
    "plt.show()"
   ]
  },
  {
   "cell_type": "markdown",
   "metadata": {},
   "source": [
    "## Decision Tree Classifier"
   ]
  },
  {
   "cell_type": "code",
   "execution_count": 24,
   "metadata": {},
   "outputs": [],
   "source": [
    "DT =DecisionTreeClassifier()\n",
    "DT_model = DT.fit(X_train , y_train)"
   ]
  },
  {
   "cell_type": "code",
   "execution_count": 25,
   "metadata": {},
   "outputs": [
    {
     "name": "stdout",
     "output_type": "stream",
     "text": [
      "Decision Trees- Entropy Model performance\n",
      "Recall:  0.8953929216538637\n",
      "Accuracy:  0.8982506604343635\n",
      "Precision:  0.9017020978881193\n",
      "f1 score:  0.8985364347570601\n",
      "roc_auc:  0.898268885919153\n"
     ]
    }
   ],
   "source": [
    "print('Decision Trees- Entropy Model performance')\n",
    "print('Recall: ' ,recall_score(DT_model.predict(X_test), y_test))\n",
    "print('Accuracy: ' ,accuracy_score(DT_model.predict(X_test), y_test))\n",
    "print('Precision: ',precision_score(DT_model.predict(X_test), y_test))\n",
    "print('f1 score: ',f1_score(DT_model.predict(X_test), y_test))\n",
    "print('roc_auc: ',roc_auc_score(DT_model.predict(X_test), y_test))"
   ]
  },
  {
   "cell_type": "code",
   "execution_count": 27,
   "metadata": {},
   "outputs": [
    {
     "data": {
      "image/png": "[encoded data removed]",
      "text/plain": [
       "<Figure size 432x288 with 1 Axes>"
      ]
     },
     "metadata": {
      "needs_background": "light"
     },
     "output_type": "display_data"
    }
   ],
   "source": [
    "# calculate roc curves\n",
    "fpr_entropy,tpr_entropy,threshold_entropy = roc_curve(DT_model.predict(X_test), y_test)\n",
    "roc_auc_entropy = auc(fpr_entropy,tpr_entropy)\n",
    "\n",
    "plt.title('Receiver Operating Characteristic')\n",
    "plt.plot(fpr_entropy,tpr_entropy, 'b',label = 'AUC = %0.4f' % roc_auc_entropy)\n",
    "plt.legend(loc = 'lower right')\n",
    "plt.plot([0, 1], [0, 1],'r--')\n",
    "plt.xlim([0, 1])\n",
    "plt.ylim([0, 1])\n",
    "plt.ylabel('True Positive Rate')\n",
    "plt.xlabel('False Positive Rate')\n",
    "plt.show()\n"
   ]
  },
  {
   "cell_type": "code",
   "execution_count": 31,
   "metadata": {},
   "outputs": [
    {
     "name": "stdout",
     "output_type": "stream",
     "text": [
      "[0.         0.09920103 1.        ] [0.         0.89578589 1.        ] [2 1 0]\n"
     ]
    }
   ],
   "source": [
    "print(fpr, tpr, threshold)"
   ]
  },
  {
   "cell_type": "code",
   "execution_count": 32,
   "metadata": {},
   "outputs": [
    {
     "data": {
      "text/plain": [
       "array([[89407,  9846],\n",
       "       [10525, 90469]], dtype=int64)"
      ]
     },
     "execution_count": 32,
     "metadata": {},
     "output_type": "execute_result"
    }
   ],
   "source": [
    "confusion_matrix(DT_model.predict(X_test), y_test)"
   ]
  },
  {
   "cell_type": "markdown",
   "metadata": {},
   "source": [
    "Decision Tree model with default parameters is giving an AUC of 0.892 which is slightly better than the Logistic regression model.\n",
    "However we haven't specified the tree depth and the number of leaf nodes which might have caused the problem of overfitting.\n",
    "Let's check with the gini impurity model also."
   ]
  },
  {
   "cell_type": "code",
   "execution_count": 28,
   "metadata": {},
   "outputs": [],
   "source": [
    "DT_gini =DecisionTreeClassifier(criterion='gini')\n",
    "DT_gini_model = DT_gini.fit(X_train , y_train)"
   ]
  },
  {
   "cell_type": "code",
   "execution_count": 29,
   "metadata": {},
   "outputs": [
    {
     "name": "stdout",
     "output_type": "stream",
     "text": [
      "Decision Trees- Gini Impurity Model performance\n",
      "Recall:  0.8953338361384566\n",
      "Accuracy:  0.8982306851038967\n",
      "Precision:  0.9017320819965419\n",
      "f1 score:  0.8985215689594215\n",
      "roc_auc:  0.8982494530766167\n"
     ]
    }
   ],
   "source": [
    "print('Decision Trees- Gini Impurity Model performance')\n",
    "print('Recall: ' ,recall_score(DT_gini_model.predict(X_test), y_test))\n",
    "print('Accuracy: ' ,accuracy_score(DT_gini_model.predict(X_test), y_test))\n",
    "print('Precision: ',precision_score(DT_gini_model.predict(X_test), y_test))\n",
    "print('f1 score: ',f1_score(DT_gini_model.predict(X_test), y_test))\n",
    "print('roc_auc: ',roc_auc_score(DT_gini_model.predict(X_test), y_test))"
   ]
  },
  {
   "cell_type": "markdown",
   "metadata": {},
   "source": [
    "The gini impurity model performs in a similar fashion as the entropy model. Let's tune the hyperparameters and test the same.\n"
   ]
  },
  {
   "cell_type": "code",
   "execution_count": 30,
   "metadata": {},
   "outputs": [],
   "source": [
    "depth = [3,5,10,15,20]"
   ]
  },
  {
   "cell_type": "code",
   "execution_count": 31,
   "metadata": {},
   "outputs": [],
   "source": [
    "gscv =GridSearchCV(DT_gini, param_grid = {'max_depth': depth}, cv =5, scoring= 'roc_auc')"
   ]
  },
  {
   "cell_type": "code",
   "execution_count": 32,
   "metadata": {},
   "outputs": [],
   "source": [
    "gini_model_cv = gscv.fit(X_train, y_train)"
   ]
  },
  {
   "cell_type": "code",
   "execution_count": 33,
   "metadata": {},
   "outputs": [
    {
     "name": "stdout",
     "output_type": "stream",
     "text": [
      "{'max_depth': 10}\n",
      "0.972414940669931\n"
     ]
    }
   ],
   "source": [
    "print(gini_model_cv.best_params_)\n",
    "print(gini_model_cv.best_score_)"
   ]
  },
  {
   "cell_type": "markdown",
   "metadata": {},
   "source": [
    "It's interesting to note that we are getting the best score at a depth of 10. There is a possibility that the model is overfitting. Let's test the same."
   ]
  },
  {
   "cell_type": "code",
   "execution_count": 34,
   "metadata": {
    "scrolled": true
   },
   "outputs": [
    {
     "name": "stdout",
     "output_type": "stream",
     "text": [
      "Recall_Score:  0.8560363007605969\n",
      "Accuracy:  0.9049523838059996\n",
      "Precision:  0.9487250492921864\n",
      "f1 score:  0.9000005254004865\n",
      "roc_auc:  0.9049179647404398\n"
     ]
    }
   ],
   "source": [
    "best_gini_model = DecisionTreeClassifier(criterion = 'gini',max_depth =10)\n",
    "best_gini_model_fitted = best_gini_model.fit(X_train,y_train)\n",
    "print('Recall_Score: ' , recall_score(y_test,best_gini_model_fitted.predict(X_test) ))\n",
    "print('Accuracy: ' ,accuracy_score(y_test,best_gini_model_fitted.predict(X_test)))\n",
    "print('Precision: ',precision_score(y_test,best_gini_model_fitted.predict(X_test)))\n",
    "print('f1 score: ',f1_score(y_test,best_gini_model_fitted.predict(X_test)))\n",
    "print('roc_auc: ',roc_auc_score(y_test,best_gini_model_fitted.predict(X_test)))\n"
   ]
  },
  {
   "cell_type": "markdown",
   "metadata": {},
   "source": [
    "The model is giving an amazing accuracy of ~90% with test set and the AUC is 0.9049. This seems to be a good model to work with.\n",
    "\n",
    "Let's now test the entropy model."
   ]
  },
  {
   "cell_type": "code",
   "execution_count": 38,
   "metadata": {},
   "outputs": [],
   "source": [
    "gscv_entropy =GridSearchCV(DT_gini, param_grid = {'max_depth': depth}, cv =5, scoring= 'roc_auc')"
   ]
  },
  {
   "cell_type": "code",
   "execution_count": 39,
   "metadata": {},
   "outputs": [],
   "source": [
    "entropy_model_cv = gscv_entropy.fit(X_train,y_train)"
   ]
  },
  {
   "cell_type": "code",
   "execution_count": 40,
   "metadata": {},
   "outputs": [
    {
     "name": "stdout",
     "output_type": "stream",
     "text": [
      "{'max_depth': 10}\n",
      "0.9724046342762286\n"
     ]
    }
   ],
   "source": [
    "print(entropy_model_cv.best_params_)\n",
    "print(entropy_model_cv.best_score_)"
   ]
  },
  {
   "cell_type": "markdown",
   "metadata": {},
   "source": [
    "The entropy model is performing well on the training dataset.\n",
    "Let's check the performance on test dataset with the same parameters."
   ]
  },
  {
   "cell_type": "code",
   "execution_count": 44,
   "metadata": {},
   "outputs": [
    {
     "name": "stdout",
     "output_type": "stream",
     "text": [
      "Recall:  0.8558563961100617\n",
      "Accuracy:  0.9050772296214176\n",
      "Precision:  0.9491670084352173\n",
      "f1 score:  0.9000998580963895\n",
      "roc_auc:  0.9050425961227795\n"
     ]
    }
   ],
   "source": [
    "entropy_model = DecisionTreeClassifier(criterion = 'entropy',max_depth =10)\n",
    "entropy_model_fitted = entropy_model.fit(X_train, y_train)\n",
    "print('Recall: ', recall_score(y_test,entropy_model_fitted.predict(X_test) ))\n",
    "print('Accuracy: ' ,accuracy_score(y_test,entropy_model_fitted.predict(X_test)))\n",
    "print('Precision: ',precision_score(y_test,entropy_model_fitted.predict(X_test)))\n",
    "print('f1 score: ',f1_score(y_test,entropy_model_fitted.predict(X_test)))\n",
    "print('roc_auc: ',roc_auc_score(y_test,entropy_model_fitted.predict(X_test)))"
   ]
  },
  {
   "cell_type": "markdown",
   "metadata": {},
   "source": [
    "Both Entropy and Gini models are performing equally well."
   ]
  },
  {
   "cell_type": "code",
   "execution_count": 45,
   "metadata": {},
   "outputs": [
    {
     "data": {
      "image/png": "[encoded data removed]",
      "text/plain": [
       "<Figure size 432x288 with 1 Axes>"
      ]
     },
     "metadata": {
      "needs_background": "light"
     },
     "output_type": "display_data"
    }
   ],
   "source": [
    "fpr_entropy_opt,tpr_entropy_opt,threshold_entropy_opt = roc_curve(entropy_model_fitted.predict(X_test), y_test)\n",
    "roc_auc_entropy_opt = auc(fpr_entropy_opt,tpr_entropy_opt)\n",
    "\n",
    "fpr_gini_opt,tpr_gini_opt,threshold_gini_opt = roc_curve(best_gini_model_fitted.predict(X_test), y_test)\n",
    "roc_auc_gini_opt = auc(fpr_entropy_opt,tpr_entropy_opt)\n",
    "\n",
    "plt.title('Receiver Operating Characteristic')\n",
    "plt.plot(fpr_entropy_opt,tpr_entropy_opt, 'b',label = 'AUC = %0.4f' % roc_auc_entropy_opt)\n",
    "plt.plot(fpr_gini_opt,tpr_gini_opt, 'g',label = 'AUC = %0.4f' % roc_auc_gini_opt)\n",
    "plt.legend(loc = 'lower right')\n",
    "plt.plot([0, 1], [0, 1],'r--')\n",
    "plt.xlim([0, 1])\n",
    "plt.ylim([0, 1])\n",
    "plt.ylabel('True Positive Rate')\n",
    "plt.xlabel('False Positive Rate')\n",
    "plt.show()"
   ]
  },
  {
   "cell_type": "markdown",
   "metadata": {},
   "source": [
    "## Random Forest Classifier"
   ]
  },
  {
   "cell_type": "code",
   "execution_count": 46,
   "metadata": {},
   "outputs": [],
   "source": [
    "rfc = RandomForestClassifier(n_estimators=10) "
   ]
  },
  {
   "cell_type": "code",
   "execution_count": 47,
   "metadata": {},
   "outputs": [],
   "source": [
    "rfc_model = rfc.fit(X_train, y_train)"
   ]
  },
  {
   "cell_type": "code",
   "execution_count": 49,
   "metadata": {},
   "outputs": [
    {
     "name": "stdout",
     "output_type": "stream",
     "text": [
      "Random Forest Classifier\n",
      "Recall:  0.89189729443395\n",
      "Accuracy:  0.9077888807322956\n",
      "Precision:  0.9210515451148773\n",
      "f1 score:  0.9062400032497373\n",
      "roc score:  0.9077776988567938\n"
     ]
    }
   ],
   "source": [
    "print('Random Forest Classifier')\n",
    "print('Recall: ' , recall_score(y_test, rfc_model.predict(X_test) ))\n",
    "print('Accuracy: ' , accuracy_score(y_test, rfc_model.predict(X_test) ))\n",
    "print('Precision: ' , precision_score(y_test, rfc_model.predict(X_test) ))\n",
    "print('f1 score: ' , f1_score(y_test, rfc_model.predict(X_test) ))\n",
    "print('roc score: ' , roc_auc_score(y_test, rfc_model.predict(X_test) ))"
   ]
  },
  {
   "cell_type": "code",
   "execution_count": 55,
   "metadata": {},
   "outputs": [],
   "source": [
    "rfc = RandomForestClassifier() \n",
    "estimators = [3,5,10,15,20,25,30,35,40]\n",
    "gridsearch_rf= GridSearchCV(rfc, param_grid = {'n_estimators': estimators}, cv =5, scoring= 'roc_auc')"
   ]
  },
  {
   "cell_type": "code",
   "execution_count": 56,
   "metadata": {},
   "outputs": [],
   "source": [
    "rf_gs= gridsearch_rf.fit(X_train,y_train)"
   ]
  },
  {
   "cell_type": "code",
   "execution_count": 57,
   "metadata": {},
   "outputs": [
    {
     "name": "stdout",
     "output_type": "stream",
     "text": [
      "{'n_estimators': 40} 0.9671592593495738\n"
     ]
    }
   ],
   "source": [
    "print(rf_gs.best_params_,rf_gs.best_score_)"
   ]
  },
  {
   "cell_type": "markdown",
   "metadata": {},
   "source": [
    "The random forest classifier is giving a higher AUC of 0.96 in comparison to the Decision Trees.\n",
    "Let's test this model on the test set."
   ]
  },
  {
   "cell_type": "code",
   "execution_count": 71,
   "metadata": {},
   "outputs": [
    {
     "name": "stdout",
     "output_type": "stream",
     "text": [
      "Random Forest Classifier- Performance\n",
      "Recall:  0.8959151649625698\n",
      "Accuracy:  0.9040834569306906\n",
      "Precision:  0.9106692945383615\n",
      "f1 score:  0.9032319822656624\n",
      "roc_auc:  0.9040777094349948\n"
     ]
    }
   ],
   "source": [
    "rfc_best= RandomForestClassifier(n_estimators=40) \n",
    "rfc_best_fitted = rfc_best.fit(X_train, y_train)\n",
    "print('Random Forest Classifier- Performance')\n",
    "print('Recall: ', recall_score(y_test,rfc_best_fitted.predict(X_test) ))\n",
    "print('Accuracy: ' ,accuracy_score(y_test,rfc_best_fitted.predict(X_test)))\n",
    "print('Precision: ',precision_score(y_test,rfc_best_fitted.predict(X_test)))\n",
    "print('f1 score: ',f1_score(y_test,rfc_best_fitted.predict(X_test)))\n",
    "print('roc_auc: ',roc_auc_score(y_test,rfc_best_fitted.predict(X_test)))"
   ]
  },
  {
   "cell_type": "markdown",
   "metadata": {},
   "source": [
    "The AUC of Random Forest is at par with Decision trees. Recall and Accuracy are better. While Precision is seen to be lower."
   ]
  },
  {
   "cell_type": "markdown",
   "metadata": {},
   "source": [
    "## Gradient Boosting Classifier"
   ]
  },
  {
   "cell_type": "code",
   "execution_count": 54,
   "metadata": {},
   "outputs": [
    {
     "name": "stdout",
     "output_type": "stream",
     "text": [
      "Learning rate:  0.05\n",
      "Accuracy score 0.8355780610945482\n",
      "Precision score:  0.9653383706635483\n",
      "Recall score:  0.7662921883181797\n",
      "Roc score:  0.8597783965645881\n",
      "\n",
      "Learning rate:  0.1\n",
      "Accuracy score 0.8414458144191923\n",
      "Precision score:  0.9567529209518955\n",
      "Recall score:  0.7773185328342089\n",
      "Roc score:  0.8605975786949845\n",
      "\n",
      "Learning rate:  0.25\n",
      "Accuracy score 0.8587893950970551\n",
      "Precision score:  0.9368234835537166\n",
      "Recall score:  0.810213678168868\n",
      "Roc score:  0.8677305692609971\n",
      "\n",
      "Learning rate:  0.5\n",
      "Accuracy score 0.8801080665378258\n",
      "Precision score:  0.907319120865941\n",
      "Recall score:  0.8603516087760034\n",
      "Roc score:  0.8812324695064412\n",
      "\n",
      "Learning rate:  0.75\n",
      "Accuracy score 0.8932018956588613\n",
      "Precision score:  0.8949756628986637\n",
      "Recall score:  0.8916782012088864\n",
      "Roc score:  0.8932064671695978\n",
      "\n",
      "Learning rate:  1\n",
      "Accuracy score 0.8964728560228118\n",
      "Precision score:  0.890258163173518\n",
      "Recall score:  0.9013296365255403\n",
      "Roc score:  0.8965350843759791\n",
      "\n",
      "Learning rate:  1.25\n",
      "Accuracy score 0.8945851872936923\n",
      "Precision score:  0.8904680519324758\n",
      "Recall score:  0.8977268147192777\n",
      "Roc score:  0.8946125435239113\n",
      "\n",
      "Learning rate:  1.5\n",
      "Accuracy score 0.8935414762767981\n",
      "Precision score:  0.8845012143563911\n",
      "Recall score:  0.9006503221078985\n",
      "Roc score:  0.8936714370864237\n",
      "\n",
      "Learning rate:  1.75\n",
      "Accuracy score 0.8653363096575729\n",
      "Precision score:  0.8597243460965688\n",
      "Recall score:  0.8693165165893542\n",
      "Roc score:  0.8653824581801635\n",
      "\n",
      "Learning rate:  2\n",
      "Accuracy score 0.7684459692280035\n",
      "Precision score:  0.5582341359079688\n",
      "Recall score:  0.9626342186449733\n",
      "Roc score:  0.8259306117763277\n",
      "\n"
     ]
    }
   ],
   "source": [
    "learning_rates = [0.05, 0.1, 0.25, 0.5, 0.75, 1, 1.25, 1.5, 1.75, 2]\n",
    "for learning_rate in learning_rates:\n",
    "    gb = GradientBoostingClassifier(n_estimators=20, learning_rate = learning_rate, max_features=2, max_depth = 2, random_state = 0)\n",
    "    gb_model = gb.fit(X_train, y_train)\n",
    "    print(\"Learning rate: \", learning_rate)\n",
    "    print(\"Accuracy score\",accuracy_score(gb_model.predict(X_test), y_test))\n",
    "    print(\"Precision score: \", precision_score(gb_model.predict(X_test), y_test))\n",
    "    print(\"Recall score: \", recall_score(gb_model.predict(X_test), y_test))\n",
    "    print(\"Roc score: \", roc_auc_score(gb_model.predict(X_test), y_test))\n",
    "    \n",
    "    print()"
   ]
  },
  {
   "cell_type": "markdown",
   "metadata": {},
   "source": [
    "The model seems to be performing well in terms of roc score until a learning rate of 1. The performance is seen to have a decline after that. The recall is improving while the precision reducing which is an indicator of the model leaning towards more false positives."
   ]
  },
  {
   "cell_type": "markdown",
   "metadata": {},
   "source": [
    "Support Vector classifier could not be used due to large size of the dataset and high memory usage.\n",
    "\n",
    "Of all the models trained above, Decision trees seem to be the best in terms of Roc as well as recall.\n",
    "Let's represent a comparison of all the models visually."
   ]
  },
  {
   "cell_type": "code",
   "execution_count": null,
   "metadata": {},
   "outputs": [],
   "source": [
    "gb = GradientBoostingClassifier(n_estimators=20, learning_rate = 1, max_features=2, max_depth = 2, random_state = 0)\n",
    "gb_model = gb.fit(X_train, y_train)\n",
    "fpr_gb_best,tpr_gb_best,threshold_gb_best = roc_curve(gb_model.predict(X_test),y_test)\n",
    "roc_auc_gb_best = auc(fpr_gb_best,tpr_gb_best)\n"
   ]
  },
  {
   "cell_type": "code",
   "execution_count": 73,
   "metadata": {},
   "outputs": [],
   "source": [
    "rfc = RandomForestClassifier(n_estimators=40)\n",
    "rfc_model = rfc.fit(X_train,y_train)\n",
    "fpr_rfc_best,tpr_rfc_best,threshold_rfc_best = roc_curve(rfc_best_fitted.predict(X_test),y_test)\n",
    "roc_auc_rfc_best = auc(fpr_rfc_best,tpr_rfc_best)"
   ]
  },
  {
   "cell_type": "code",
   "execution_count": 74,
   "metadata": {},
   "outputs": [
    {
     "data": {
      "image/png": "[encoded data removed]",
      "text/plain": [
       "<Figure size 432x288 with 1 Axes>"
      ]
     },
     "metadata": {
      "needs_background": "light"
     },
     "output_type": "display_data"
    }
   ],
   "source": [
    "plt.title('Receiver Operating Characteristic')\n",
    "plt.plot(fpr_entropy_opt,tpr_entropy_opt, 'b',label = 'AUC_decision_entropy = %0.4f' % roc_auc_entropy_opt)\n",
    "plt.plot(fpr_gini_opt,tpr_gini_opt, 'g',label = 'AUC_decision_gini = %0.4f' % roc_auc_gini_opt)\n",
    "plt.plot(fpr_gb_best,tpr_gb_best, 'c',label = 'AUC_gb = %0.4f' % roc_auc_gb_best)\n",
    "plt.plot(fpr_rfc_best,tpr_rfc_best, 'y',label = 'AUC_rfc = %0.4f' % roc_auc_rfc_best)\n",
    "plt.plot(fpr_logreg_best,tpr_logreg_best, 'r',label = 'AUC = %0.4f' % roc_auc_logreg_best)\n",
    "plt.legend(loc = 'lower right')\n",
    "plt.plot([0, 1], [0, 1],'r--')\n",
    "plt.xlim([0, 1])\n",
    "plt.ylim([0, 1])\n",
    "plt.ylabel('True Positive Rate')\n",
    "plt.xlabel('False Positive Rate')\n",
    "plt.show()"
   ]
  },
  {
   "cell_type": "markdown",
   "metadata": {},
   "source": [
    "## Observation and Conclusion:\n",
    "\n",
    "Decision trees can be seen outperforming their counterparts. The True positive rate is higher and False negative rate at par with the remaining models.\n",
    "\n",
    "Hence Decision Trees can be considered for Predicting the responses of the customers based on their profiling."
   ]
  }
 ],
 "metadata": {
  "kernelspec": {
   "display_name": "Python 3",
   "language": "python",
   "name": "python3"
  },
  "language_info": {
   "codemirror_mode": {
    "name": "ipython",
    "version": 3
   },
   "file_extension": ".py",
   "mimetype": "text/x-python",
   "name": "python",
   "nbconvert_exporter": "python",
   "pygments_lexer": "ipython3",
   "version": "3.7.1"
  }
 },
 "nbformat": 4,
 "nbformat_minor": 2
}
