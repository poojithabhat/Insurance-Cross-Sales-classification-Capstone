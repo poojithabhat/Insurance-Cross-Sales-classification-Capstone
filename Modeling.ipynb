{
 "cells": [
  {
   "cell_type": "markdown",
   "metadata": {
    "id": "dxtjX3SOlt_Y"
   },
   "source": [
    "## Importing required modules"
   ]
  },
  {
   "cell_type": "code",
   "execution_count": 1,
   "metadata": {
    "executionInfo": {
     "elapsed": 2391,
     "status": "ok",
     "timestamp": 1614911220363,
     "user": {
      "displayName": "Poojitha Bhat",
      "photoUrl": "https://lh3.googleusercontent.com/a-/AOh14Gi_TYzKBVXFUb8yQHjJ0Ri0dNxl-1fYa6PMNRWtZQ=s64",
      "userId": "10185309236567782705"
     },
     "user_tz": -330
    },
    "id": "ayLGsAdjlt_t"
   },
   "outputs": [],
   "source": [
    "import sklearn\n",
    "from sklearn.linear_model import LogisticRegression\n",
    "from sklearn.tree import DecisionTreeClassifier\n",
    "from sklearn.svm import SVC\n",
    "from sklearn.linear_model import LogisticRegression\n",
    "from sklearn.ensemble import GradientBoostingClassifier\n",
    "from sklearn.ensemble import RandomForestClassifier\n",
    "\n",
    "from sklearn.metrics import accuracy_score\n",
    "from sklearn.metrics import recall_score\n",
    "from sklearn.metrics import precision_score\n",
    "from sklearn.metrics import f1_score\n",
    "from sklearn.metrics import classification_report, confusion_matrix, roc_curve, auc,roc_auc_score\n",
    "\n",
    "from sklearn.model_selection import GridSearchCV\n",
    "\n",
    "import pandas as pd\n",
    "import numpy as np"
   ]
  },
  {
   "cell_type": "code",
   "execution_count": 2,
   "metadata": {
    "colab": {
     "base_uri": "https://localhost:8080/",
     "height": 72,
     "resources": {
      "http://localhost:8080/nbextensions/google.colab/files.js": {
       "data": "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",
       "headers": [
        [
         "content-type",
         "application/javascript"
        ]
       ],
       "ok": true,
       "status": 200,
       "status_text": ""
      }
     }
    },
    "executionInfo": {
     "elapsed": 1208693,
     "status": "ok",
     "timestamp": 1614912435330,
     "user": {
      "displayName": "Poojitha Bhat",
      "photoUrl": "https://lh3.googleusercontent.com/a-/AOh14Gi_TYzKBVXFUb8yQHjJ0Ri0dNxl-1fYa6PMNRWtZQ=s64",
      "userId": "10185309236567782705"
     },
     "user_tz": -330
    },
    "id": "DbEifhtclt_1",
    "outputId": "0f35717c-7aca-458d-88cc-25da035a3d37"
   },
   "outputs": [
    {
     "data": {
      "text/html": [
       "\n",
       "     <input type=\"file\" id=\"files-08305690-0033-4f50-9a67-4d59b230d336\" name=\"files[]\" multiple disabled\n",
       "        style=\"border:none\" />\n",
       "     <output id=\"result-08305690-0033-4f50-9a67-4d59b230d336\">\n",
       "      Upload widget is only available when the cell has been executed in the\n",
       "      current browser session. Please rerun this cell to enable.\n",
       "      </output>\n",
       "      <script src=\"/nbextensions/google.colab/files.js\"></script> "
      ],
      "text/plain": [
       "<IPython.core.display.HTML object>"
      ]
     },
     "metadata": {
      "tags": []
     },
     "output_type": "display_data"
    },
    {
     "name": "stdout",
     "output_type": "stream",
     "text": [
      "Saving balanced_insurance_dataset.csv to balanced_insurance_dataset.csv\n"
     ]
    }
   ],
   "source": [
    "from google.colab import files\n",
    "uploaded = files.upload()\n",
    "#insurance =pd.read_csv(\"balanced_insurance_dataset.csv\")"
   ]
  },
  {
   "cell_type": "code",
   "execution_count": 7,
   "metadata": {
    "executionInfo": {
     "elapsed": 2229,
     "status": "ok",
     "timestamp": 1614913191995,
     "user": {
      "displayName": "Poojitha Bhat",
      "photoUrl": "https://lh3.googleusercontent.com/a-/AOh14Gi_TYzKBVXFUb8yQHjJ0Ri0dNxl-1fYa6PMNRWtZQ=s64",
      "userId": "10185309236567782705"
     },
     "user_tz": -330
    },
    "id": "8Mbpoh6wvhOr"
   },
   "outputs": [],
   "source": [
    "insurance =pd.read_csv(\"balanced_insurance_dataset.csv\")"
   ]
  },
  {
   "cell_type": "code",
   "execution_count": null,
   "metadata": {
    "colab": {
     "base_uri": "https://localhost:8080/",
     "height": 396
    },
    "executionInfo": {
     "elapsed": 1186,
     "status": "ok",
     "timestamp": 1614781660400,
     "user": {
      "displayName": "Poojitha Bhat",
      "photoUrl": "https://lh3.googleusercontent.com/a-/AOh14Gi_TYzKBVXFUb8yQHjJ0Ri0dNxl-1fYa6PMNRWtZQ=s64",
      "userId": "10185309236567782705"
     },
     "user_tz": -330
    },
    "id": "KyOYWByWlt_5",
    "outputId": "2de4e498-7da0-47cf-b482-cdf5d758f403"
   },
   "outputs": [
    {
     "data": {
      "text/html": [
       "<div>\n",
       "<style scoped>\n",
       "    .dataframe tbody tr th:only-of-type {\n",
       "        vertical-align: middle;\n",
       "    }\n",
       "\n",
       "    .dataframe tbody tr th {\n",
       "        vertical-align: top;\n",
       "    }\n",
       "\n",
       "    .dataframe thead th {\n",
       "        text-align: right;\n",
       "    }\n",
       "</style>\n",
       "<table border=\"1\" class=\"dataframe\">\n",
       "  <thead>\n",
       "    <tr style=\"text-align: right;\">\n",
       "      <th></th>\n",
       "      <th>Unnamed: 0</th>\n",
       "      <th>id</th>\n",
       "      <th>Driving_License</th>\n",
       "      <th>Previously_Insured</th>\n",
       "      <th>Vehicle_Damage</th>\n",
       "      <th>Age_Segment_20s</th>\n",
       "      <th>Age_Segment_30s</th>\n",
       "      <th>Age_Segment_40s</th>\n",
       "      <th>Age_Segment_50s</th>\n",
       "      <th>Age_Segment_60s</th>\n",
       "      <th>Age_Segment_70plus</th>\n",
       "      <th>Premium_Segment_0-10k</th>\n",
       "      <th>Premium_Segment_10-20k</th>\n",
       "      <th>Premium_Segment_20-30k</th>\n",
       "      <th>Premium_Segment_30-40k</th>\n",
       "      <th>Premium_Segment_40-50k</th>\n",
       "      <th>Premium_Segment_50-60k</th>\n",
       "      <th>Premium_Segment_60-70k</th>\n",
       "      <th>Premium_Segment_70plus</th>\n",
       "      <th>Months_On_Books_1.0 months</th>\n",
       "      <th>Months_On_Books_10.0 months</th>\n",
       "      <th>Months_On_Books_2.0 months</th>\n",
       "      <th>Months_On_Books_3.0 months</th>\n",
       "      <th>Months_On_Books_4.0 months</th>\n",
       "      <th>Months_On_Books_5.0 months</th>\n",
       "      <th>Months_On_Books_6.0 months</th>\n",
       "      <th>Months_On_Books_7.0 months</th>\n",
       "      <th>Months_On_Books_8.0 months</th>\n",
       "      <th>Months_On_Books_9.0 months</th>\n",
       "      <th>Policy_channel_type_Affinity Group</th>\n",
       "      <th>Policy_channel_type_Direct Response</th>\n",
       "      <th>Policy_channel_type_Exclusive/Captive Agents</th>\n",
       "      <th>Policy_channel_type_Independent Agencies</th>\n",
       "      <th>Policy_channel_type_Internet</th>\n",
       "      <th>Policy_channel_type_others</th>\n",
       "      <th>Region_Andhra Pradesh</th>\n",
       "      <th>Region_Goa</th>\n",
       "      <th>Region_Haryana</th>\n",
       "      <th>Region_Maharashtra</th>\n",
       "      <th>Region_Others</th>\n",
       "      <th>Region_West Bengal</th>\n",
       "      <th>Gender_F</th>\n",
       "      <th>Gender_M</th>\n",
       "      <th>Response</th>\n",
       "    </tr>\n",
       "  </thead>\n",
       "  <tbody>\n",
       "    <tr>\n",
       "      <th>0</th>\n",
       "      <td>0</td>\n",
       "      <td>1</td>\n",
       "      <td>1</td>\n",
       "      <td>0</td>\n",
       "      <td>1</td>\n",
       "      <td>0</td>\n",
       "      <td>0</td>\n",
       "      <td>1</td>\n",
       "      <td>0</td>\n",
       "      <td>0</td>\n",
       "      <td>0</td>\n",
       "      <td>0</td>\n",
       "      <td>0</td>\n",
       "      <td>0</td>\n",
       "      <td>0</td>\n",
       "      <td>1</td>\n",
       "      <td>0</td>\n",
       "      <td>0</td>\n",
       "      <td>0</td>\n",
       "      <td>0</td>\n",
       "      <td>0</td>\n",
       "      <td>0</td>\n",
       "      <td>0</td>\n",
       "      <td>0</td>\n",
       "      <td>0</td>\n",
       "      <td>0</td>\n",
       "      <td>1</td>\n",
       "      <td>0</td>\n",
       "      <td>0</td>\n",
       "      <td>0</td>\n",
       "      <td>1</td>\n",
       "      <td>0</td>\n",
       "      <td>0</td>\n",
       "      <td>0</td>\n",
       "      <td>0</td>\n",
       "      <td>0</td>\n",
       "      <td>0</td>\n",
       "      <td>0</td>\n",
       "      <td>0</td>\n",
       "      <td>0</td>\n",
       "      <td>1</td>\n",
       "      <td>0</td>\n",
       "      <td>1</td>\n",
       "      <td>1</td>\n",
       "    </tr>\n",
       "    <tr>\n",
       "      <th>1</th>\n",
       "      <td>1</td>\n",
       "      <td>2</td>\n",
       "      <td>1</td>\n",
       "      <td>0</td>\n",
       "      <td>0</td>\n",
       "      <td>0</td>\n",
       "      <td>0</td>\n",
       "      <td>0</td>\n",
       "      <td>0</td>\n",
       "      <td>0</td>\n",
       "      <td>1</td>\n",
       "      <td>0</td>\n",
       "      <td>0</td>\n",
       "      <td>0</td>\n",
       "      <td>1</td>\n",
       "      <td>0</td>\n",
       "      <td>0</td>\n",
       "      <td>0</td>\n",
       "      <td>0</td>\n",
       "      <td>0</td>\n",
       "      <td>0</td>\n",
       "      <td>0</td>\n",
       "      <td>0</td>\n",
       "      <td>0</td>\n",
       "      <td>0</td>\n",
       "      <td>1</td>\n",
       "      <td>0</td>\n",
       "      <td>0</td>\n",
       "      <td>0</td>\n",
       "      <td>0</td>\n",
       "      <td>1</td>\n",
       "      <td>0</td>\n",
       "      <td>0</td>\n",
       "      <td>0</td>\n",
       "      <td>0</td>\n",
       "      <td>0</td>\n",
       "      <td>0</td>\n",
       "      <td>0</td>\n",
       "      <td>0</td>\n",
       "      <td>1</td>\n",
       "      <td>0</td>\n",
       "      <td>0</td>\n",
       "      <td>1</td>\n",
       "      <td>0</td>\n",
       "    </tr>\n",
       "    <tr>\n",
       "      <th>2</th>\n",
       "      <td>2</td>\n",
       "      <td>3</td>\n",
       "      <td>1</td>\n",
       "      <td>0</td>\n",
       "      <td>1</td>\n",
       "      <td>0</td>\n",
       "      <td>0</td>\n",
       "      <td>1</td>\n",
       "      <td>0</td>\n",
       "      <td>0</td>\n",
       "      <td>0</td>\n",
       "      <td>0</td>\n",
       "      <td>0</td>\n",
       "      <td>0</td>\n",
       "      <td>1</td>\n",
       "      <td>0</td>\n",
       "      <td>0</td>\n",
       "      <td>0</td>\n",
       "      <td>0</td>\n",
       "      <td>1</td>\n",
       "      <td>0</td>\n",
       "      <td>0</td>\n",
       "      <td>0</td>\n",
       "      <td>0</td>\n",
       "      <td>0</td>\n",
       "      <td>0</td>\n",
       "      <td>0</td>\n",
       "      <td>0</td>\n",
       "      <td>0</td>\n",
       "      <td>0</td>\n",
       "      <td>1</td>\n",
       "      <td>0</td>\n",
       "      <td>0</td>\n",
       "      <td>0</td>\n",
       "      <td>0</td>\n",
       "      <td>0</td>\n",
       "      <td>0</td>\n",
       "      <td>0</td>\n",
       "      <td>0</td>\n",
       "      <td>0</td>\n",
       "      <td>1</td>\n",
       "      <td>0</td>\n",
       "      <td>1</td>\n",
       "      <td>1</td>\n",
       "    </tr>\n",
       "    <tr>\n",
       "      <th>3</th>\n",
       "      <td>3</td>\n",
       "      <td>4</td>\n",
       "      <td>1</td>\n",
       "      <td>1</td>\n",
       "      <td>0</td>\n",
       "      <td>1</td>\n",
       "      <td>0</td>\n",
       "      <td>0</td>\n",
       "      <td>0</td>\n",
       "      <td>0</td>\n",
       "      <td>0</td>\n",
       "      <td>0</td>\n",
       "      <td>0</td>\n",
       "      <td>1</td>\n",
       "      <td>0</td>\n",
       "      <td>0</td>\n",
       "      <td>0</td>\n",
       "      <td>0</td>\n",
       "      <td>0</td>\n",
       "      <td>0</td>\n",
       "      <td>0</td>\n",
       "      <td>0</td>\n",
       "      <td>0</td>\n",
       "      <td>0</td>\n",
       "      <td>0</td>\n",
       "      <td>0</td>\n",
       "      <td>1</td>\n",
       "      <td>0</td>\n",
       "      <td>0</td>\n",
       "      <td>0</td>\n",
       "      <td>0</td>\n",
       "      <td>0</td>\n",
       "      <td>0</td>\n",
       "      <td>1</td>\n",
       "      <td>0</td>\n",
       "      <td>0</td>\n",
       "      <td>0</td>\n",
       "      <td>0</td>\n",
       "      <td>0</td>\n",
       "      <td>1</td>\n",
       "      <td>0</td>\n",
       "      <td>0</td>\n",
       "      <td>1</td>\n",
       "      <td>0</td>\n",
       "    </tr>\n",
       "    <tr>\n",
       "      <th>4</th>\n",
       "      <td>4</td>\n",
       "      <td>5</td>\n",
       "      <td>1</td>\n",
       "      <td>1</td>\n",
       "      <td>0</td>\n",
       "      <td>1</td>\n",
       "      <td>0</td>\n",
       "      <td>0</td>\n",
       "      <td>0</td>\n",
       "      <td>0</td>\n",
       "      <td>0</td>\n",
       "      <td>0</td>\n",
       "      <td>0</td>\n",
       "      <td>1</td>\n",
       "      <td>0</td>\n",
       "      <td>0</td>\n",
       "      <td>0</td>\n",
       "      <td>0</td>\n",
       "      <td>0</td>\n",
       "      <td>1</td>\n",
       "      <td>0</td>\n",
       "      <td>0</td>\n",
       "      <td>0</td>\n",
       "      <td>0</td>\n",
       "      <td>0</td>\n",
       "      <td>0</td>\n",
       "      <td>0</td>\n",
       "      <td>0</td>\n",
       "      <td>0</td>\n",
       "      <td>0</td>\n",
       "      <td>0</td>\n",
       "      <td>0</td>\n",
       "      <td>0</td>\n",
       "      <td>1</td>\n",
       "      <td>0</td>\n",
       "      <td>1</td>\n",
       "      <td>0</td>\n",
       "      <td>0</td>\n",
       "      <td>0</td>\n",
       "      <td>0</td>\n",
       "      <td>0</td>\n",
       "      <td>1</td>\n",
       "      <td>0</td>\n",
       "      <td>0</td>\n",
       "    </tr>\n",
       "    <tr>\n",
       "      <th>5</th>\n",
       "      <td>5</td>\n",
       "      <td>6</td>\n",
       "      <td>1</td>\n",
       "      <td>0</td>\n",
       "      <td>1</td>\n",
       "      <td>1</td>\n",
       "      <td>0</td>\n",
       "      <td>0</td>\n",
       "      <td>0</td>\n",
       "      <td>0</td>\n",
       "      <td>0</td>\n",
       "      <td>1</td>\n",
       "      <td>0</td>\n",
       "      <td>0</td>\n",
       "      <td>0</td>\n",
       "      <td>0</td>\n",
       "      <td>0</td>\n",
       "      <td>0</td>\n",
       "      <td>0</td>\n",
       "      <td>0</td>\n",
       "      <td>0</td>\n",
       "      <td>0</td>\n",
       "      <td>0</td>\n",
       "      <td>0</td>\n",
       "      <td>0</td>\n",
       "      <td>1</td>\n",
       "      <td>0</td>\n",
       "      <td>0</td>\n",
       "      <td>0</td>\n",
       "      <td>1</td>\n",
       "      <td>0</td>\n",
       "      <td>0</td>\n",
       "      <td>0</td>\n",
       "      <td>0</td>\n",
       "      <td>0</td>\n",
       "      <td>0</td>\n",
       "      <td>0</td>\n",
       "      <td>0</td>\n",
       "      <td>0</td>\n",
       "      <td>1</td>\n",
       "      <td>0</td>\n",
       "      <td>1</td>\n",
       "      <td>0</td>\n",
       "      <td>0</td>\n",
       "    </tr>\n",
       "    <tr>\n",
       "      <th>6</th>\n",
       "      <td>6</td>\n",
       "      <td>7</td>\n",
       "      <td>1</td>\n",
       "      <td>0</td>\n",
       "      <td>1</td>\n",
       "      <td>1</td>\n",
       "      <td>0</td>\n",
       "      <td>0</td>\n",
       "      <td>0</td>\n",
       "      <td>0</td>\n",
       "      <td>0</td>\n",
       "      <td>0</td>\n",
       "      <td>0</td>\n",
       "      <td>1</td>\n",
       "      <td>0</td>\n",
       "      <td>0</td>\n",
       "      <td>0</td>\n",
       "      <td>0</td>\n",
       "      <td>0</td>\n",
       "      <td>0</td>\n",
       "      <td>0</td>\n",
       "      <td>0</td>\n",
       "      <td>0</td>\n",
       "      <td>0</td>\n",
       "      <td>0</td>\n",
       "      <td>0</td>\n",
       "      <td>0</td>\n",
       "      <td>1</td>\n",
       "      <td>0</td>\n",
       "      <td>0</td>\n",
       "      <td>0</td>\n",
       "      <td>0</td>\n",
       "      <td>0</td>\n",
       "      <td>1</td>\n",
       "      <td>0</td>\n",
       "      <td>0</td>\n",
       "      <td>0</td>\n",
       "      <td>0</td>\n",
       "      <td>0</td>\n",
       "      <td>1</td>\n",
       "      <td>0</td>\n",
       "      <td>0</td>\n",
       "      <td>1</td>\n",
       "      <td>0</td>\n",
       "    </tr>\n",
       "    <tr>\n",
       "      <th>7</th>\n",
       "      <td>7</td>\n",
       "      <td>8</td>\n",
       "      <td>1</td>\n",
       "      <td>0</td>\n",
       "      <td>1</td>\n",
       "      <td>0</td>\n",
       "      <td>0</td>\n",
       "      <td>0</td>\n",
       "      <td>1</td>\n",
       "      <td>0</td>\n",
       "      <td>0</td>\n",
       "      <td>0</td>\n",
       "      <td>0</td>\n",
       "      <td>0</td>\n",
       "      <td>1</td>\n",
       "      <td>0</td>\n",
       "      <td>0</td>\n",
       "      <td>0</td>\n",
       "      <td>0</td>\n",
       "      <td>0</td>\n",
       "      <td>0</td>\n",
       "      <td>1</td>\n",
       "      <td>0</td>\n",
       "      <td>0</td>\n",
       "      <td>0</td>\n",
       "      <td>0</td>\n",
       "      <td>0</td>\n",
       "      <td>0</td>\n",
       "      <td>0</td>\n",
       "      <td>0</td>\n",
       "      <td>1</td>\n",
       "      <td>0</td>\n",
       "      <td>0</td>\n",
       "      <td>0</td>\n",
       "      <td>0</td>\n",
       "      <td>0</td>\n",
       "      <td>0</td>\n",
       "      <td>0</td>\n",
       "      <td>0</td>\n",
       "      <td>0</td>\n",
       "      <td>1</td>\n",
       "      <td>1</td>\n",
       "      <td>0</td>\n",
       "      <td>1</td>\n",
       "    </tr>\n",
       "    <tr>\n",
       "      <th>8</th>\n",
       "      <td>8</td>\n",
       "      <td>9</td>\n",
       "      <td>1</td>\n",
       "      <td>1</td>\n",
       "      <td>0</td>\n",
       "      <td>1</td>\n",
       "      <td>0</td>\n",
       "      <td>0</td>\n",
       "      <td>0</td>\n",
       "      <td>0</td>\n",
       "      <td>0</td>\n",
       "      <td>0</td>\n",
       "      <td>0</td>\n",
       "      <td>1</td>\n",
       "      <td>0</td>\n",
       "      <td>0</td>\n",
       "      <td>0</td>\n",
       "      <td>0</td>\n",
       "      <td>0</td>\n",
       "      <td>1</td>\n",
       "      <td>0</td>\n",
       "      <td>0</td>\n",
       "      <td>0</td>\n",
       "      <td>0</td>\n",
       "      <td>0</td>\n",
       "      <td>0</td>\n",
       "      <td>0</td>\n",
       "      <td>0</td>\n",
       "      <td>0</td>\n",
       "      <td>0</td>\n",
       "      <td>0</td>\n",
       "      <td>0</td>\n",
       "      <td>0</td>\n",
       "      <td>1</td>\n",
       "      <td>0</td>\n",
       "      <td>0</td>\n",
       "      <td>0</td>\n",
       "      <td>0</td>\n",
       "      <td>0</td>\n",
       "      <td>1</td>\n",
       "      <td>0</td>\n",
       "      <td>1</td>\n",
       "      <td>0</td>\n",
       "      <td>0</td>\n",
       "    </tr>\n",
       "    <tr>\n",
       "      <th>9</th>\n",
       "      <td>9</td>\n",
       "      <td>10</td>\n",
       "      <td>1</td>\n",
       "      <td>1</td>\n",
       "      <td>0</td>\n",
       "      <td>0</td>\n",
       "      <td>1</td>\n",
       "      <td>0</td>\n",
       "      <td>0</td>\n",
       "      <td>0</td>\n",
       "      <td>0</td>\n",
       "      <td>0</td>\n",
       "      <td>0</td>\n",
       "      <td>1</td>\n",
       "      <td>0</td>\n",
       "      <td>0</td>\n",
       "      <td>0</td>\n",
       "      <td>0</td>\n",
       "      <td>0</td>\n",
       "      <td>0</td>\n",
       "      <td>0</td>\n",
       "      <td>0</td>\n",
       "      <td>1</td>\n",
       "      <td>0</td>\n",
       "      <td>0</td>\n",
       "      <td>0</td>\n",
       "      <td>0</td>\n",
       "      <td>0</td>\n",
       "      <td>0</td>\n",
       "      <td>0</td>\n",
       "      <td>0</td>\n",
       "      <td>0</td>\n",
       "      <td>0</td>\n",
       "      <td>1</td>\n",
       "      <td>0</td>\n",
       "      <td>0</td>\n",
       "      <td>0</td>\n",
       "      <td>0</td>\n",
       "      <td>0</td>\n",
       "      <td>1</td>\n",
       "      <td>0</td>\n",
       "      <td>1</td>\n",
       "      <td>0</td>\n",
       "      <td>0</td>\n",
       "    </tr>\n",
       "  </tbody>\n",
       "</table>\n",
       "</div>"
      ],
      "text/plain": [
       "   Unnamed: 0  id  Driving_License  ...  Gender_F  Gender_M  Response\n",
       "0           0   1                1  ...         0         1         1\n",
       "1           1   2                1  ...         0         1         0\n",
       "2           2   3                1  ...         0         1         1\n",
       "3           3   4                1  ...         0         1         0\n",
       "4           4   5                1  ...         1         0         0\n",
       "5           5   6                1  ...         1         0         0\n",
       "6           6   7                1  ...         0         1         0\n",
       "7           7   8                1  ...         1         0         1\n",
       "8           8   9                1  ...         1         0         0\n",
       "9           9  10                1  ...         1         0         0\n",
       "\n",
       "[10 rows x 44 columns]"
      ]
     },
     "execution_count": 4,
     "metadata": {
      "tags": []
     },
     "output_type": "execute_result"
    }
   ],
   "source": [
    "insurance.head(10)"
   ]
  },
  {
   "cell_type": "markdown",
   "metadata": {
    "id": "aYh89Gm6lt__"
   },
   "source": [
    "The field unnamed 0 is unnecessary. to be dropped."
   ]
  },
  {
   "cell_type": "markdown",
   "metadata": {
    "id": "GSORhAXwluAD"
   },
   "source": [
    "## Train test split for model training and testing"
   ]
  },
  {
   "cell_type": "code",
   "execution_count": 8,
   "metadata": {
    "executionInfo": {
     "elapsed": 1146,
     "status": "ok",
     "timestamp": 1614913293269,
     "user": {
      "displayName": "Poojitha Bhat",
      "photoUrl": "https://lh3.googleusercontent.com/a-/AOh14Gi_TYzKBVXFUb8yQHjJ0Ri0dNxl-1fYa6PMNRWtZQ=s64",
      "userId": "10185309236567782705"
     },
     "user_tz": -330
    },
    "id": "2y4Vs1EaluAF"
   },
   "outputs": [],
   "source": [
    "from sklearn.model_selection import train_test_split\n",
    "\n",
    "X = insurance.drop(['Response', 'Unnamed: 0'], axis=1)\n",
    "y = insurance['Response']\n",
    "X_train, X_test, y_train, y_test = train_test_split(X,y, test_size =0.3)"
   ]
  },
  {
   "cell_type": "code",
   "execution_count": 12,
   "metadata": {
    "executionInfo": {
     "elapsed": 6830,
     "status": "ok",
     "timestamp": 1614913223939,
     "user": {
      "displayName": "Poojitha Bhat",
      "photoUrl": "https://lh3.googleusercontent.com/a-/AOh14Gi_TYzKBVXFUb8yQHjJ0Ri0dNxl-1fYa6PMNRWtZQ=s64",
      "userId": "10185309236567782705"
     },
     "user_tz": -330
    },
    "id": "pw6HRQ37Wh1H"
   },
   "outputs": [],
   "source": [
    "X_train.to_csv('X_train.csv')\n",
    "X_test.to_csv('X_test.csv')\n",
    "y_train.to_csv('y_train.csv')\n",
    "y_test.to_csv('y_test.csv')"
   ]
  },
  {
   "cell_type": "code",
   "execution_count": null,
   "metadata": {
    "colab": {
     "base_uri": "https://localhost:8080/"
    },
    "executionInfo": {
     "elapsed": 1025,
     "status": "ok",
     "timestamp": 1614828826415,
     "user": {
      "displayName": "Poojitha Bhat",
      "photoUrl": "https://lh3.googleusercontent.com/a-/AOh14Gi_TYzKBVXFUb8yQHjJ0Ri0dNxl-1fYa6PMNRWtZQ=s64",
      "userId": "10185309236567782705"
     },
     "user_tz": -330
    },
    "id": "DZDuuyCMluAL",
    "outputId": "1730670f-33e7-4b2c-bc0e-8e9e63a5455e"
   },
   "outputs": [
    {
     "name": "stdout",
     "output_type": "stream",
     "text": [
      "shape of X_train: (467241, 42) ,Shape of y_train: (467241,) Shape of X_test: (200247, 42) Shape of y_test: (200247,)\n"
     ]
    }
   ],
   "source": [
    "print('shape of X_train:' , X_train.shape,  ',Shape of y_train:', y_train.shape, 'Shape of X_test:', X_test.shape, 'Shape of y_test:' ,y_test.shape)"
   ]
  },
  {
   "cell_type": "markdown",
   "metadata": {
    "id": "nKi7BzicluAO"
   },
   "source": [
    "# Model training"
   ]
  },
  {
   "cell_type": "markdown",
   "metadata": {
    "id": "IaEyfZY3luAQ"
   },
   "source": [
    "## Logistic Regression"
   ]
  },
  {
   "cell_type": "code",
   "execution_count": 9,
   "metadata": {
    "executionInfo": {
     "elapsed": 4281,
     "status": "ok",
     "timestamp": 1614916845023,
     "user": {
      "displayName": "Poojitha Bhat",
      "photoUrl": "https://lh3.googleusercontent.com/a-/AOh14Gi_TYzKBVXFUb8yQHjJ0Ri0dNxl-1fYa6PMNRWtZQ=s64",
      "userId": "10185309236567782705"
     },
     "user_tz": -330
    },
    "id": "HoLz6ISLluAS"
   },
   "outputs": [],
   "source": [
    "logreg = LogisticRegression()\n",
    "logreg_model = logreg.fit(X_train, y_train)"
   ]
  },
  {
   "cell_type": "code",
   "execution_count": null,
   "metadata": {
    "colab": {
     "base_uri": "https://localhost:8080/",
     "height": 396
    },
    "executionInfo": {
     "elapsed": 4570,
     "status": "ok",
     "timestamp": 1614828966127,
     "user": {
      "displayName": "Poojitha Bhat",
      "photoUrl": "https://lh3.googleusercontent.com/a-/AOh14Gi_TYzKBVXFUb8yQHjJ0Ri0dNxl-1fYa6PMNRWtZQ=s64",
      "userId": "10185309236567782705"
     },
     "user_tz": -330
    },
    "id": "maJs4xGCwckt",
    "outputId": "b0b1d754-f518-4926-cacb-03f776a378a4"
   },
   "outputs": [
    {
     "data": {
      "text/html": [
       "<div>\n",
       "<style scoped>\n",
       "    .dataframe tbody tr th:only-of-type {\n",
       "        vertical-align: middle;\n",
       "    }\n",
       "\n",
       "    .dataframe tbody tr th {\n",
       "        vertical-align: top;\n",
       "    }\n",
       "\n",
       "    .dataframe thead th {\n",
       "        text-align: right;\n",
       "    }\n",
       "</style>\n",
       "<table border=\"1\" class=\"dataframe\">\n",
       "  <thead>\n",
       "    <tr style=\"text-align: right;\">\n",
       "      <th></th>\n",
       "      <th>id</th>\n",
       "      <th>Driving_License</th>\n",
       "      <th>Previously_Insured</th>\n",
       "      <th>Vehicle_Damage</th>\n",
       "      <th>Age_Segment_20s</th>\n",
       "      <th>Age_Segment_30s</th>\n",
       "      <th>Age_Segment_40s</th>\n",
       "      <th>Age_Segment_50s</th>\n",
       "      <th>Age_Segment_60s</th>\n",
       "      <th>Age_Segment_70plus</th>\n",
       "      <th>Premium_Segment_0-10k</th>\n",
       "      <th>Premium_Segment_10-20k</th>\n",
       "      <th>Premium_Segment_20-30k</th>\n",
       "      <th>Premium_Segment_30-40k</th>\n",
       "      <th>Premium_Segment_40-50k</th>\n",
       "      <th>Premium_Segment_50-60k</th>\n",
       "      <th>Premium_Segment_60-70k</th>\n",
       "      <th>Premium_Segment_70plus</th>\n",
       "      <th>Months_On_Books_1.0 months</th>\n",
       "      <th>Months_On_Books_10.0 months</th>\n",
       "      <th>Months_On_Books_2.0 months</th>\n",
       "      <th>Months_On_Books_3.0 months</th>\n",
       "      <th>Months_On_Books_4.0 months</th>\n",
       "      <th>Months_On_Books_5.0 months</th>\n",
       "      <th>Months_On_Books_6.0 months</th>\n",
       "      <th>Months_On_Books_7.0 months</th>\n",
       "      <th>Months_On_Books_8.0 months</th>\n",
       "      <th>Months_On_Books_9.0 months</th>\n",
       "      <th>Policy_channel_type_Affinity Group</th>\n",
       "      <th>Policy_channel_type_Direct Response</th>\n",
       "      <th>Policy_channel_type_Exclusive/Captive Agents</th>\n",
       "      <th>Policy_channel_type_Independent Agencies</th>\n",
       "      <th>Policy_channel_type_Internet</th>\n",
       "      <th>Policy_channel_type_others</th>\n",
       "      <th>Region_Andhra Pradesh</th>\n",
       "      <th>Region_Goa</th>\n",
       "      <th>Region_Haryana</th>\n",
       "      <th>Region_Maharashtra</th>\n",
       "      <th>Region_Others</th>\n",
       "      <th>Region_West Bengal</th>\n",
       "      <th>Gender_F</th>\n",
       "      <th>Gender_M</th>\n",
       "    </tr>\n",
       "  </thead>\n",
       "  <tbody>\n",
       "    <tr>\n",
       "      <th>21685</th>\n",
       "      <td>21727</td>\n",
       "      <td>1</td>\n",
       "      <td>1</td>\n",
       "      <td>0</td>\n",
       "      <td>1</td>\n",
       "      <td>0</td>\n",
       "      <td>0</td>\n",
       "      <td>0</td>\n",
       "      <td>0</td>\n",
       "      <td>0</td>\n",
       "      <td>0</td>\n",
       "      <td>0</td>\n",
       "      <td>0</td>\n",
       "      <td>1</td>\n",
       "      <td>0</td>\n",
       "      <td>0</td>\n",
       "      <td>0</td>\n",
       "      <td>0</td>\n",
       "      <td>0</td>\n",
       "      <td>0</td>\n",
       "      <td>0</td>\n",
       "      <td>0</td>\n",
       "      <td>0</td>\n",
       "      <td>0</td>\n",
       "      <td>0</td>\n",
       "      <td>0</td>\n",
       "      <td>1</td>\n",
       "      <td>0</td>\n",
       "      <td>0</td>\n",
       "      <td>0</td>\n",
       "      <td>0</td>\n",
       "      <td>0</td>\n",
       "      <td>1</td>\n",
       "      <td>0</td>\n",
       "      <td>0</td>\n",
       "      <td>1</td>\n",
       "      <td>0</td>\n",
       "      <td>0</td>\n",
       "      <td>0</td>\n",
       "      <td>0</td>\n",
       "      <td>1</td>\n",
       "      <td>0</td>\n",
       "    </tr>\n",
       "    <tr>\n",
       "      <th>543091</th>\n",
       "      <td>53086</td>\n",
       "      <td>1</td>\n",
       "      <td>0</td>\n",
       "      <td>1</td>\n",
       "      <td>0</td>\n",
       "      <td>0</td>\n",
       "      <td>0</td>\n",
       "      <td>0</td>\n",
       "      <td>0</td>\n",
       "      <td>0</td>\n",
       "      <td>0</td>\n",
       "      <td>0</td>\n",
       "      <td>0</td>\n",
       "      <td>1</td>\n",
       "      <td>0</td>\n",
       "      <td>0</td>\n",
       "      <td>0</td>\n",
       "      <td>0</td>\n",
       "      <td>0</td>\n",
       "      <td>0</td>\n",
       "      <td>0</td>\n",
       "      <td>0</td>\n",
       "      <td>0</td>\n",
       "      <td>0</td>\n",
       "      <td>0</td>\n",
       "      <td>0</td>\n",
       "      <td>0</td>\n",
       "      <td>0</td>\n",
       "      <td>0</td>\n",
       "      <td>0</td>\n",
       "      <td>0</td>\n",
       "      <td>0</td>\n",
       "      <td>0</td>\n",
       "      <td>0</td>\n",
       "      <td>0</td>\n",
       "      <td>0</td>\n",
       "      <td>0</td>\n",
       "      <td>0</td>\n",
       "      <td>0</td>\n",
       "      <td>0</td>\n",
       "      <td>0</td>\n",
       "      <td>1</td>\n",
       "    </tr>\n",
       "    <tr>\n",
       "      <th>339529</th>\n",
       "      <td>340234</td>\n",
       "      <td>1</td>\n",
       "      <td>0</td>\n",
       "      <td>1</td>\n",
       "      <td>0</td>\n",
       "      <td>0</td>\n",
       "      <td>1</td>\n",
       "      <td>0</td>\n",
       "      <td>0</td>\n",
       "      <td>0</td>\n",
       "      <td>0</td>\n",
       "      <td>0</td>\n",
       "      <td>1</td>\n",
       "      <td>0</td>\n",
       "      <td>0</td>\n",
       "      <td>0</td>\n",
       "      <td>0</td>\n",
       "      <td>0</td>\n",
       "      <td>0</td>\n",
       "      <td>0</td>\n",
       "      <td>0</td>\n",
       "      <td>0</td>\n",
       "      <td>0</td>\n",
       "      <td>0</td>\n",
       "      <td>1</td>\n",
       "      <td>0</td>\n",
       "      <td>0</td>\n",
       "      <td>0</td>\n",
       "      <td>0</td>\n",
       "      <td>0</td>\n",
       "      <td>0</td>\n",
       "      <td>0</td>\n",
       "      <td>0</td>\n",
       "      <td>1</td>\n",
       "      <td>0</td>\n",
       "      <td>0</td>\n",
       "      <td>0</td>\n",
       "      <td>0</td>\n",
       "      <td>0</td>\n",
       "      <td>1</td>\n",
       "      <td>0</td>\n",
       "      <td>1</td>\n",
       "    </tr>\n",
       "    <tr>\n",
       "      <th>385002</th>\n",
       "      <td>71759</td>\n",
       "      <td>1</td>\n",
       "      <td>0</td>\n",
       "      <td>1</td>\n",
       "      <td>0</td>\n",
       "      <td>0</td>\n",
       "      <td>0</td>\n",
       "      <td>0</td>\n",
       "      <td>0</td>\n",
       "      <td>0</td>\n",
       "      <td>0</td>\n",
       "      <td>0</td>\n",
       "      <td>0</td>\n",
       "      <td>0</td>\n",
       "      <td>0</td>\n",
       "      <td>0</td>\n",
       "      <td>0</td>\n",
       "      <td>0</td>\n",
       "      <td>0</td>\n",
       "      <td>0</td>\n",
       "      <td>0</td>\n",
       "      <td>0</td>\n",
       "      <td>0</td>\n",
       "      <td>0</td>\n",
       "      <td>0</td>\n",
       "      <td>0</td>\n",
       "      <td>0</td>\n",
       "      <td>0</td>\n",
       "      <td>0</td>\n",
       "      <td>0</td>\n",
       "      <td>0</td>\n",
       "      <td>0</td>\n",
       "      <td>0</td>\n",
       "      <td>0</td>\n",
       "      <td>0</td>\n",
       "      <td>0</td>\n",
       "      <td>0</td>\n",
       "      <td>0</td>\n",
       "      <td>0</td>\n",
       "      <td>1</td>\n",
       "      <td>0</td>\n",
       "      <td>1</td>\n",
       "    </tr>\n",
       "    <tr>\n",
       "      <th>591531</th>\n",
       "      <td>13250</td>\n",
       "      <td>1</td>\n",
       "      <td>0</td>\n",
       "      <td>0</td>\n",
       "      <td>0</td>\n",
       "      <td>1</td>\n",
       "      <td>0</td>\n",
       "      <td>0</td>\n",
       "      <td>0</td>\n",
       "      <td>0</td>\n",
       "      <td>0</td>\n",
       "      <td>0</td>\n",
       "      <td>0</td>\n",
       "      <td>0</td>\n",
       "      <td>0</td>\n",
       "      <td>0</td>\n",
       "      <td>0</td>\n",
       "      <td>0</td>\n",
       "      <td>0</td>\n",
       "      <td>0</td>\n",
       "      <td>0</td>\n",
       "      <td>0</td>\n",
       "      <td>0</td>\n",
       "      <td>0</td>\n",
       "      <td>0</td>\n",
       "      <td>0</td>\n",
       "      <td>0</td>\n",
       "      <td>0</td>\n",
       "      <td>0</td>\n",
       "      <td>0</td>\n",
       "      <td>0</td>\n",
       "      <td>1</td>\n",
       "      <td>0</td>\n",
       "      <td>0</td>\n",
       "      <td>0</td>\n",
       "      <td>0</td>\n",
       "      <td>0</td>\n",
       "      <td>0</td>\n",
       "      <td>1</td>\n",
       "      <td>0</td>\n",
       "      <td>0</td>\n",
       "      <td>1</td>\n",
       "    </tr>\n",
       "    <tr>\n",
       "      <th>456529</th>\n",
       "      <td>16992</td>\n",
       "      <td>1</td>\n",
       "      <td>0</td>\n",
       "      <td>1</td>\n",
       "      <td>0</td>\n",
       "      <td>0</td>\n",
       "      <td>1</td>\n",
       "      <td>0</td>\n",
       "      <td>0</td>\n",
       "      <td>0</td>\n",
       "      <td>0</td>\n",
       "      <td>0</td>\n",
       "      <td>0</td>\n",
       "      <td>0</td>\n",
       "      <td>0</td>\n",
       "      <td>0</td>\n",
       "      <td>0</td>\n",
       "      <td>0</td>\n",
       "      <td>0</td>\n",
       "      <td>0</td>\n",
       "      <td>0</td>\n",
       "      <td>0</td>\n",
       "      <td>0</td>\n",
       "      <td>0</td>\n",
       "      <td>0</td>\n",
       "      <td>0</td>\n",
       "      <td>0</td>\n",
       "      <td>0</td>\n",
       "      <td>0</td>\n",
       "      <td>0</td>\n",
       "      <td>0</td>\n",
       "      <td>0</td>\n",
       "      <td>0</td>\n",
       "      <td>0</td>\n",
       "      <td>0</td>\n",
       "      <td>0</td>\n",
       "      <td>0</td>\n",
       "      <td>0</td>\n",
       "      <td>0</td>\n",
       "      <td>0</td>\n",
       "      <td>0</td>\n",
       "      <td>1</td>\n",
       "    </tr>\n",
       "    <tr>\n",
       "      <th>643886</th>\n",
       "      <td>282360</td>\n",
       "      <td>1</td>\n",
       "      <td>0</td>\n",
       "      <td>1</td>\n",
       "      <td>0</td>\n",
       "      <td>0</td>\n",
       "      <td>0</td>\n",
       "      <td>0</td>\n",
       "      <td>0</td>\n",
       "      <td>0</td>\n",
       "      <td>0</td>\n",
       "      <td>0</td>\n",
       "      <td>0</td>\n",
       "      <td>0</td>\n",
       "      <td>0</td>\n",
       "      <td>0</td>\n",
       "      <td>0</td>\n",
       "      <td>0</td>\n",
       "      <td>0</td>\n",
       "      <td>0</td>\n",
       "      <td>0</td>\n",
       "      <td>0</td>\n",
       "      <td>0</td>\n",
       "      <td>0</td>\n",
       "      <td>0</td>\n",
       "      <td>0</td>\n",
       "      <td>0</td>\n",
       "      <td>0</td>\n",
       "      <td>0</td>\n",
       "      <td>0</td>\n",
       "      <td>0</td>\n",
       "      <td>0</td>\n",
       "      <td>0</td>\n",
       "      <td>0</td>\n",
       "      <td>0</td>\n",
       "      <td>0</td>\n",
       "      <td>0</td>\n",
       "      <td>0</td>\n",
       "      <td>0</td>\n",
       "      <td>0</td>\n",
       "      <td>1</td>\n",
       "      <td>0</td>\n",
       "    </tr>\n",
       "    <tr>\n",
       "      <th>435687</th>\n",
       "      <td>44689</td>\n",
       "      <td>1</td>\n",
       "      <td>0</td>\n",
       "      <td>1</td>\n",
       "      <td>0</td>\n",
       "      <td>0</td>\n",
       "      <td>0</td>\n",
       "      <td>0</td>\n",
       "      <td>0</td>\n",
       "      <td>0</td>\n",
       "      <td>0</td>\n",
       "      <td>0</td>\n",
       "      <td>0</td>\n",
       "      <td>0</td>\n",
       "      <td>0</td>\n",
       "      <td>0</td>\n",
       "      <td>0</td>\n",
       "      <td>0</td>\n",
       "      <td>0</td>\n",
       "      <td>0</td>\n",
       "      <td>0</td>\n",
       "      <td>0</td>\n",
       "      <td>0</td>\n",
       "      <td>0</td>\n",
       "      <td>0</td>\n",
       "      <td>0</td>\n",
       "      <td>0</td>\n",
       "      <td>0</td>\n",
       "      <td>0</td>\n",
       "      <td>0</td>\n",
       "      <td>0</td>\n",
       "      <td>1</td>\n",
       "      <td>0</td>\n",
       "      <td>0</td>\n",
       "      <td>0</td>\n",
       "      <td>0</td>\n",
       "      <td>0</td>\n",
       "      <td>0</td>\n",
       "      <td>1</td>\n",
       "      <td>0</td>\n",
       "      <td>0</td>\n",
       "      <td>1</td>\n",
       "    </tr>\n",
       "    <tr>\n",
       "      <th>96332</th>\n",
       "      <td>96531</td>\n",
       "      <td>1</td>\n",
       "      <td>1</td>\n",
       "      <td>0</td>\n",
       "      <td>1</td>\n",
       "      <td>0</td>\n",
       "      <td>0</td>\n",
       "      <td>0</td>\n",
       "      <td>0</td>\n",
       "      <td>0</td>\n",
       "      <td>0</td>\n",
       "      <td>0</td>\n",
       "      <td>0</td>\n",
       "      <td>1</td>\n",
       "      <td>0</td>\n",
       "      <td>0</td>\n",
       "      <td>0</td>\n",
       "      <td>0</td>\n",
       "      <td>0</td>\n",
       "      <td>0</td>\n",
       "      <td>1</td>\n",
       "      <td>0</td>\n",
       "      <td>0</td>\n",
       "      <td>0</td>\n",
       "      <td>0</td>\n",
       "      <td>0</td>\n",
       "      <td>0</td>\n",
       "      <td>0</td>\n",
       "      <td>0</td>\n",
       "      <td>0</td>\n",
       "      <td>0</td>\n",
       "      <td>0</td>\n",
       "      <td>1</td>\n",
       "      <td>0</td>\n",
       "      <td>0</td>\n",
       "      <td>0</td>\n",
       "      <td>0</td>\n",
       "      <td>0</td>\n",
       "      <td>1</td>\n",
       "      <td>0</td>\n",
       "      <td>0</td>\n",
       "      <td>1</td>\n",
       "    </tr>\n",
       "    <tr>\n",
       "      <th>544946</th>\n",
       "      <td>13390</td>\n",
       "      <td>1</td>\n",
       "      <td>0</td>\n",
       "      <td>1</td>\n",
       "      <td>0</td>\n",
       "      <td>0</td>\n",
       "      <td>0</td>\n",
       "      <td>0</td>\n",
       "      <td>0</td>\n",
       "      <td>0</td>\n",
       "      <td>0</td>\n",
       "      <td>0</td>\n",
       "      <td>0</td>\n",
       "      <td>0</td>\n",
       "      <td>0</td>\n",
       "      <td>0</td>\n",
       "      <td>0</td>\n",
       "      <td>0</td>\n",
       "      <td>0</td>\n",
       "      <td>0</td>\n",
       "      <td>0</td>\n",
       "      <td>0</td>\n",
       "      <td>0</td>\n",
       "      <td>0</td>\n",
       "      <td>0</td>\n",
       "      <td>0</td>\n",
       "      <td>0</td>\n",
       "      <td>0</td>\n",
       "      <td>0</td>\n",
       "      <td>0</td>\n",
       "      <td>0</td>\n",
       "      <td>0</td>\n",
       "      <td>0</td>\n",
       "      <td>1</td>\n",
       "      <td>0</td>\n",
       "      <td>0</td>\n",
       "      <td>0</td>\n",
       "      <td>0</td>\n",
       "      <td>1</td>\n",
       "      <td>0</td>\n",
       "      <td>0</td>\n",
       "      <td>0</td>\n",
       "    </tr>\n",
       "  </tbody>\n",
       "</table>\n",
       "</div>"
      ],
      "text/plain": [
       "            id  Driving_License  ...  Gender_F  Gender_M\n",
       "21685    21727                1  ...         1         0\n",
       "543091   53086                1  ...         0         1\n",
       "339529  340234                1  ...         0         1\n",
       "385002   71759                1  ...         0         1\n",
       "591531   13250                1  ...         0         1\n",
       "456529   16992                1  ...         0         1\n",
       "643886  282360                1  ...         1         0\n",
       "435687   44689                1  ...         0         1\n",
       "96332    96531                1  ...         0         1\n",
       "544946   13390                1  ...         0         0\n",
       "\n",
       "[10 rows x 42 columns]"
      ]
     },
     "execution_count": 27,
     "metadata": {
      "tags": []
     },
     "output_type": "execute_result"
    }
   ],
   "source": [
    "X_train.head(10)"
   ]
  },
  {
   "cell_type": "code",
   "execution_count": 10,
   "metadata": {
    "executionInfo": {
     "elapsed": 3016,
     "status": "ok",
     "timestamp": 1614916854656,
     "user": {
      "displayName": "Poojitha Bhat",
      "photoUrl": "https://lh3.googleusercontent.com/a-/AOh14Gi_TYzKBVXFUb8yQHjJ0Ri0dNxl-1fYa6PMNRWtZQ=s64",
      "userId": "10185309236567782705"
     },
     "user_tz": -330
    },
    "id": "K_TSWCjQluAU"
   },
   "outputs": [],
   "source": [
    "y_predicted =logreg_model.predict(X_test)"
   ]
  },
  {
   "cell_type": "code",
   "execution_count": null,
   "metadata": {
    "colab": {
     "base_uri": "https://localhost:8080/"
    },
    "executionInfo": {
     "elapsed": 648,
     "status": "ok",
     "timestamp": 1614792411748,
     "user": {
      "displayName": "Poojitha Bhat",
      "photoUrl": "https://lh3.googleusercontent.com/a-/AOh14Gi_TYzKBVXFUb8yQHjJ0Ri0dNxl-1fYa6PMNRWtZQ=s64",
      "userId": "10185309236567782705"
     },
     "user_tz": -330
    },
    "id": "CmLA4eyQwef3",
    "outputId": "7d396ade-b320-48fe-f485-424db71b9c27"
   },
   "outputs": [
    {
     "data": {
      "text/plain": [
       "0    233874\n",
       "1    233367\n",
       "Name: Response, dtype: int64"
      ]
     },
     "execution_count": 63,
     "metadata": {
      "tags": []
     },
     "output_type": "execute_result"
    }
   ],
   "source": [
    "y_train.value_counts()"
   ]
  },
  {
   "cell_type": "code",
   "execution_count": 11,
   "metadata": {
    "colab": {
     "base_uri": "https://localhost:8080/"
    },
    "executionInfo": {
     "elapsed": 1258,
     "status": "ok",
     "timestamp": 1614913315903,
     "user": {
      "displayName": "Poojitha Bhat",
      "photoUrl": "https://lh3.googleusercontent.com/a-/AOh14Gi_TYzKBVXFUb8yQHjJ0Ri0dNxl-1fYa6PMNRWtZQ=s64",
      "userId": "10185309236567782705"
     },
     "user_tz": -330
    },
    "id": "2jNXxzCHluAW",
    "outputId": "149c0085-c2cc-46c0-bbc5-929dc69e31dc"
   },
   "outputs": [
    {
     "name": "stdout",
     "output_type": "stream",
     "text": [
      "Logistic Regression Performance\n",
      "Accuracy:  0.8615559783667172\n",
      "Recall:  0.8474209137994109\n",
      "Precision:  0.8811399513508644\n",
      "f1 score:  0.863951553935016\n",
      "roc_auc_score:  0.8621060656282912\n"
     ]
    }
   ],
   "source": [
    "print('Logistic Regression Performance')\n",
    "print('Accuracy: ' ,accuracy_score(y_predicted,y_test))\n",
    "print( 'Recall: ' ,recall_score(y_predicted,y_test))\n",
    "print('Precision: ' ,precision_score(y_predicted,y_test))\n",
    "print('f1 score: ' ,f1_score(y_predicted,y_test))\n",
    "print('roc_auc_score: ' ,roc_auc_score(y_predicted,y_test))"
   ]
  },
  {
   "cell_type": "markdown",
   "metadata": {
    "id": "Ed4fNC07luAZ"
   },
   "source": [
    "The model is giving an accuracy of 86% on the test set. Recall is ~85% and Precision is ~88%.\n",
    "Since we are more concerned about not letting any potential leads out of hand and also optimize the resources, we can work on the roc_auc metric."
   ]
  },
  {
   "cell_type": "code",
   "execution_count": 15,
   "metadata": {
    "colab": {
     "base_uri": "https://localhost:8080/",
     "height": 312
    },
    "executionInfo": {
     "elapsed": 2467,
     "status": "ok",
     "timestamp": 1614916916986,
     "user": {
      "displayName": "Poojitha Bhat",
      "photoUrl": "https://lh3.googleusercontent.com/a-/AOh14Gi_TYzKBVXFUb8yQHjJ0Ri0dNxl-1fYa6PMNRWtZQ=s64",
      "userId": "10185309236567782705"
     },
     "user_tz": -330
    },
    "id": "n6Qs0Vy9luAb",
    "outputId": "dfe0ea32-2efa-47a7-e299-12568ab697a9"
   },
   "outputs": [
    {
     "name": "stdout",
     "output_type": "stream",
     "text": [
      "roc_curve:  (array([0.        , 0.12320878, 1.        ]), array([0.        , 0.84742091, 1.        ]), array([2, 1, 0], dtype=int64))\n"
     ]
    },
    {
     "data": {
      "image/png": "[encoded data removed]",
      "text/plain": [
       "<Figure size 432x288 with 1 Axes>"
      ]
     },
     "metadata": {
      "needs_background": "light"
     },
     "output_type": "display_data"
    }
   ],
   "source": [
    "import matplotlib.pyplot as plt\n",
    "print('roc_curve: ' ,roc_curve(logreg_model.predict(X_test),y_test))\n",
    "fpr_logreg,tpr_logreg,threshold_logreg = roc_curve(logreg_model.predict(X_test),y_test)\n",
    "roc_auc_logreg = auc(fpr_logreg,tpr_logreg)\n",
    "plt.title('Receiver Operating Characteristic')\n",
    "plt.plot(fpr_logreg, tpr_logreg, 'b',label = 'AUC = %0.4f' % roc_auc_logreg)\n",
    "plt.legend(loc = 'lower right')\n",
    "plt.plot([0, 1], [0, 1],'r--')\n",
    "plt.xlim([0, 1])\n",
    "plt.ylim([0, 1])\n",
    "plt.ylabel('True Positive Rate')\n",
    "plt.xlabel('False Positive Rate')\n",
    "plt.show()"
   ]
  },
  {
   "cell_type": "code",
   "execution_count": 16,
   "metadata": {
    "colab": {
     "base_uri": "https://localhost:8080/"
    },
    "executionInfo": {
     "elapsed": 2376,
     "status": "ok",
     "timestamp": 1614916980906,
     "user": {
      "displayName": "Poojitha Bhat",
      "photoUrl": "https://lh3.googleusercontent.com/a-/AOh14Gi_TYzKBVXFUb8yQHjJ0Ri0dNxl-1fYa6PMNRWtZQ=s64",
      "userId": "10185309236567782705"
     },
     "user_tz": -330
    },
    "id": "au9CqQFuluAe",
    "outputId": "d999d35f-3678-494d-e2fa-3bb8b2ea59f1",
    "scrolled": true
   },
   "outputs": [
    {
     "data": {
      "text/plain": [
       "['accuracy',\n",
       " 'adjusted_mutual_info_score',\n",
       " 'adjusted_rand_score',\n",
       " 'average_precision',\n",
       " 'balanced_accuracy',\n",
       " 'completeness_score',\n",
       " 'explained_variance',\n",
       " 'f1',\n",
       " 'f1_macro',\n",
       " 'f1_micro',\n",
       " 'f1_samples',\n",
       " 'f1_weighted',\n",
       " 'fowlkes_mallows_score',\n",
       " 'homogeneity_score',\n",
       " 'jaccard',\n",
       " 'jaccard_macro',\n",
       " 'jaccard_micro',\n",
       " 'jaccard_samples',\n",
       " 'jaccard_weighted',\n",
       " 'max_error',\n",
       " 'mutual_info_score',\n",
       " 'neg_brier_score',\n",
       " 'neg_log_loss',\n",
       " 'neg_mean_absolute_error',\n",
       " 'neg_mean_absolute_percentage_error',\n",
       " 'neg_mean_gamma_deviance',\n",
       " 'neg_mean_poisson_deviance',\n",
       " 'neg_mean_squared_error',\n",
       " 'neg_mean_squared_log_error',\n",
       " 'neg_median_absolute_error',\n",
       " 'neg_root_mean_squared_error',\n",
       " 'normalized_mutual_info_score',\n",
       " 'precision',\n",
       " 'precision_macro',\n",
       " 'precision_micro',\n",
       " 'precision_samples',\n",
       " 'precision_weighted',\n",
       " 'r2',\n",
       " 'rand_score',\n",
       " 'recall',\n",
       " 'recall_macro',\n",
       " 'recall_micro',\n",
       " 'recall_samples',\n",
       " 'recall_weighted',\n",
       " 'roc_auc',\n",
       " 'roc_auc_ovo',\n",
       " 'roc_auc_ovo_weighted',\n",
       " 'roc_auc_ovr',\n",
       " 'roc_auc_ovr_weighted',\n",
       " 'top_k_accuracy',\n",
       " 'v_measure_score']"
      ]
     },
     "execution_count": 16,
     "metadata": {},
     "output_type": "execute_result"
    }
   ],
   "source": [
    "# Listing out a range of Regularization parameters Cs to fit the Logistic regression model\n",
    "C =[0.01, 0.1, 1, 10, 100, 1000]\n",
    "penalties =['l1' ,'l2']\n",
    "\n",
    "#Listing out all scoring metrices on gridsearchcv to find the metric for roc_auc\n",
    "sorted(sklearn.metrics.SCORERS.keys())"
   ]
  },
  {
   "cell_type": "code",
   "execution_count": 17,
   "metadata": {
    "executionInfo": {
     "elapsed": 2992,
     "status": "ok",
     "timestamp": 1614916989182,
     "user": {
      "displayName": "Poojitha Bhat",
      "photoUrl": "https://lh3.googleusercontent.com/a-/AOh14Gi_TYzKBVXFUb8yQHjJ0Ri0dNxl-1fYa6PMNRWtZQ=s64",
      "userId": "10185309236567782705"
     },
     "user_tz": -330
    },
    "id": "FRs_FFUBluAh"
   },
   "outputs": [],
   "source": [
    "gridsearch_logreg= GridSearchCV(logreg, param_grid = {'C': C, 'penalty': penalties}, cv =5, scoring= 'roc_auc')"
   ]
  },
  {
   "cell_type": "code",
   "execution_count": 26,
   "metadata": {
    "colab": {
     "base_uri": "https://localhost:8080/"
    },
    "executionInfo": {
     "elapsed": 81230,
     "status": "ok",
     "timestamp": 1614917072915,
     "user": {
      "displayName": "Poojitha Bhat",
      "photoUrl": "https://lh3.googleusercontent.com/a-/AOh14Gi_TYzKBVXFUb8yQHjJ0Ri0dNxl-1fYa6PMNRWtZQ=s64",
      "userId": "10185309236567782705"
     },
     "user_tz": -330
    },
    "id": "8RDF1YzRluAj",
    "outputId": "9d74610c-a228-47f9-9f85-649e0fe4c320"
   },
   "outputs": [
    {
     "name": "stderr",
     "output_type": "stream",
     "text": [
      "/usr/local/lib/python3.7/dist-packages/sklearn/model_selection/_validation.py:536: FitFailedWarning: Estimator fit failed. The score on this train-test partition for these parameters will be set to nan. Details: \n",
      "ValueError: Solver lbfgs supports only 'l2' or 'none' penalties, got l1 penalty.\n",
      "\n",
      "  FitFailedWarning)\n",
      "/usr/local/lib/python3.7/dist-packages/sklearn/model_selection/_validation.py:536: FitFailedWarning: Estimator fit failed. The score on this train-test partition for these parameters will be set to nan. Details: \n",
      "ValueError: Solver lbfgs supports only 'l2' or 'none' penalties, got l1 penalty.\n",
      "\n",
      "  FitFailedWarning)\n",
      "/usr/local/lib/python3.7/dist-packages/sklearn/model_selection/_validation.py:536: FitFailedWarning: Estimator fit failed. The score on this train-test partition for these parameters will be set to nan. Details: \n",
      "ValueError: Solver lbfgs supports only 'l2' or 'none' penalties, got l1 penalty.\n",
      "\n",
      "  FitFailedWarning)\n",
      "/usr/local/lib/python3.7/dist-packages/sklearn/model_selection/_validation.py:536: FitFailedWarning: Estimator fit failed. The score on this train-test partition for these parameters will be set to nan. Details: \n",
      "ValueError: Solver lbfgs supports only 'l2' or 'none' penalties, got l1 penalty.\n",
      "\n",
      "  FitFailedWarning)\n",
      "/usr/local/lib/python3.7/dist-packages/sklearn/model_selection/_validation.py:536: FitFailedWarning: Estimator fit failed. The score on this train-test partition for these parameters will be set to nan. Details: \n",
      "ValueError: Solver lbfgs supports only 'l2' or 'none' penalties, got l1 penalty.\n",
      "\n",
      "  FitFailedWarning)\n",
      "/usr/local/lib/python3.7/dist-packages/sklearn/model_selection/_validation.py:536: FitFailedWarning: Estimator fit failed. The score on this train-test partition for these parameters will be set to nan. Details: \n",
      "ValueError: Solver lbfgs supports only 'l2' or 'none' penalties, got l1 penalty.\n",
      "\n",
      "  FitFailedWarning)\n"
     ]
    }
   ],
   "source": [
    "model_logreg = gridsearch_logreg.fit(X_train,y_train)"
   ]
  },
  {
   "cell_type": "code",
   "execution_count": 27,
   "metadata": {
    "colab": {
     "base_uri": "https://localhost:8080/"
    },
    "executionInfo": {
     "elapsed": 1218,
     "status": "ok",
     "timestamp": 1614917083966,
     "user": {
      "displayName": "Poojitha Bhat",
      "photoUrl": "https://lh3.googleusercontent.com/a-/AOh14Gi_TYzKBVXFUb8yQHjJ0Ri0dNxl-1fYa6PMNRWtZQ=s64",
      "userId": "10185309236567782705"
     },
     "user_tz": -330
    },
    "id": "7oSRVU8KluAl",
    "outputId": "3a20cd15-4f6e-4d76-d89d-38defd498f16"
   },
   "outputs": [
    {
     "name": "stdout",
     "output_type": "stream",
     "text": [
      "{'C': 0.01, 'penalty': 'l2'} 0.8651314961866289\n"
     ]
    }
   ],
   "source": [
    "print(model_logreg.best_params_,model_logreg.best_score_)"
   ]
  },
  {
   "cell_type": "markdown",
   "metadata": {
    "id": "I_Pq2n4WluAn"
   },
   "source": [
    "With regularization value of 0.01 and l2 penalty we can get an roc_auc of ~0.87 on the model.\n",
    "\n",
    "Let's compare the logistic regression plot with the new plot of the optimized model."
   ]
  },
  {
   "cell_type": "code",
   "execution_count": 18,
   "metadata": {
    "colab": {
     "base_uri": "https://localhost:8080/",
     "height": 295
    },
    "executionInfo": {
     "elapsed": 6326,
     "status": "ok",
     "timestamp": 1614916955162,
     "user": {
      "displayName": "Poojitha Bhat",
      "photoUrl": "https://lh3.googleusercontent.com/a-/AOh14Gi_TYzKBVXFUb8yQHjJ0Ri0dNxl-1fYa6PMNRWtZQ=s64",
      "userId": "10185309236567782705"
     },
     "user_tz": -330
    },
    "id": "pFn2Sg5pluAp",
    "outputId": "2be8bdb3-7982-4069-aa8c-77d53fc3e32d"
   },
   "outputs": [
    {
     "data": {
      "image/png": "[encoded data removed]",
      "text/plain": [
       "<Figure size 432x288 with 1 Axes>"
      ]
     },
     "metadata": {
      "needs_background": "light"
     },
     "output_type": "display_data"
    }
   ],
   "source": [
    "import matplotlib\n",
    "from matplotlib import pyplot as plt\n",
    "logreg =LogisticRegression(C=0.01, penalty ='l2')\n",
    "best_logreg_model = logreg.fit(X_train, y_train)\n",
    "fpr_logreg_best,tpr_logreg_best,threshold_logreg_best = roc_curve(best_logreg_model.predict(X_test),y_test)\n",
    "roc_auc_logreg_best = auc(fpr_logreg_best,tpr_logreg_best)\n",
    "plt.title('Receiver Operating Characteristic')\n",
    "plt.plot(fpr_logreg_best,tpr_logreg_best, 'b',label = 'AUC = %0.4f' % roc_auc_logreg_best)\n",
    "plt.plot(fpr_logreg,tpr_logreg, 'g',label = 'AUC = %0.4f' % roc_auc_logreg)\n",
    "plt.legend(loc = 'lower right')\n",
    "plt.plot([0, 1], [0, 1],'r--')\n",
    "plt.xlim([0, 1])\n",
    "plt.ylim([0, 1])\n",
    "plt.ylabel('True Positive Rate')\n",
    "plt.xlabel('False Positive Rate')\n",
    "plt.show()"
   ]
  },
  {
   "cell_type": "code",
   "execution_count": 19,
   "metadata": {},
   "outputs": [
    {
     "name": "stdout",
     "output_type": "stream",
     "text": [
      "Logistic Regression Best model Performance\n",
      "Accuracy:  0.8614111572208323\n",
      "Recall:  0.8462978429283184\n",
      "Precision:  0.882471296008969\n",
      "f1 score:  0.8640061156085226\n",
      "roc_auc_score:  0.8620475246823779\n"
     ]
    }
   ],
   "source": [
    "y_predicted = best_logreg_model.predict(X_test)\n",
    "print('Logistic Regression Best model Performance')\n",
    "print('Accuracy: ' ,accuracy_score(y_predicted,y_test))\n",
    "print( 'Recall: ' ,recall_score(y_predicted,y_test))\n",
    "print('Precision: ' ,precision_score(y_predicted,y_test))\n",
    "print('f1 score: ' ,f1_score(y_predicted,y_test))\n",
    "print('roc_auc_score: ' ,roc_auc_score(y_predicted,y_test))"
   ]
  },
  {
   "cell_type": "markdown",
   "metadata": {
    "id": "36G1k0lLqI86"
   },
   "source": [
    "Both the models i.e Logistic regression with default parameters and Logistic regression with optimized parameters have a similar performance."
   ]
  },
  {
   "cell_type": "markdown",
   "metadata": {
    "id": "SBOvqVLyluAs"
   },
   "source": [
    "## Decision Tree Classifier"
   ]
  },
  {
   "cell_type": "code",
   "execution_count": 28,
   "metadata": {
    "executionInfo": {
     "elapsed": 7351,
     "status": "ok",
     "timestamp": 1614918831670,
     "user": {
      "displayName": "Poojitha Bhat",
      "photoUrl": "https://lh3.googleusercontent.com/a-/AOh14Gi_TYzKBVXFUb8yQHjJ0Ri0dNxl-1fYa6PMNRWtZQ=s64",
      "userId": "10185309236567782705"
     },
     "user_tz": -330
    },
    "id": "5Ykc6q5aluAt"
   },
   "outputs": [],
   "source": [
    "DT =DecisionTreeClassifier()\n",
    "DT_model = DT.fit(X_train , y_train)"
   ]
  },
  {
   "cell_type": "code",
   "execution_count": null,
   "metadata": {
    "colab": {
     "base_uri": "https://localhost:8080/"
    },
    "executionInfo": {
     "elapsed": 2158,
     "status": "ok",
     "timestamp": 1614879361568,
     "user": {
      "displayName": "Poojitha Bhat",
      "photoUrl": "https://lh3.googleusercontent.com/a-/AOh14Gi_TYzKBVXFUb8yQHjJ0Ri0dNxl-1fYa6PMNRWtZQ=s64",
      "userId": "10185309236567782705"
     },
     "user_tz": -330
    },
    "id": "O-2YNjuEluAv",
    "outputId": "5de505ab-8d7e-451b-e8ed-aa6bd2a885bc"
   },
   "outputs": [
    {
     "name": "stdout",
     "output_type": "stream",
     "text": [
      "Decision Trees- Entropy Model performance\n",
      "Recall:  0.8957011421319797\n",
      "Accuracy:  0.8979859873056775\n",
      "Precision:  0.9011690539839604\n",
      "f1 score:  0.8984267785755485\n",
      "roc_auc:  0.8980030116242343\n"
     ]
    }
   ],
   "source": [
    "print('Decision Trees- Entropy Model performance')\n",
    "print('Recall: ' ,recall_score(DT_model.predict(X_test), y_test))\n",
    "print('Accuracy: ' ,accuracy_score(DT_model.predict(X_test), y_test))\n",
    "print('Precision: ',precision_score(DT_model.predict(X_test), y_test))\n",
    "print('f1 score: ',f1_score(DT_model.predict(X_test), y_test))\n",
    "print('roc_auc: ',roc_auc_score(DT_model.predict(X_test), y_test))"
   ]
  },
  {
   "cell_type": "code",
   "execution_count": null,
   "metadata": {
    "colab": {
     "base_uri": "https://localhost:8080/",
     "height": 295
    },
    "executionInfo": {
     "elapsed": 1356,
     "status": "ok",
     "timestamp": 1614785068315,
     "user": {
      "displayName": "Poojitha Bhat",
      "photoUrl": "https://lh3.googleusercontent.com/a-/AOh14Gi_TYzKBVXFUb8yQHjJ0Ri0dNxl-1fYa6PMNRWtZQ=s64",
      "userId": "10185309236567782705"
     },
     "user_tz": -330
    },
    "id": "B6cYfxaCluAx",
    "outputId": "b8b54285-4360-494e-f065-42051e252a62"
   },
   "outputs": [
    {
     "data": {
      "image/png": "[encoded data removed]",
      "text/plain": [
       "<Figure size 432x288 with 1 Axes>"
      ]
     },
     "metadata": {
      "needs_background": "light",
      "tags": []
     },
     "output_type": "display_data"
    }
   ],
   "source": [
    "# calculate roc curves\n",
    "fpr_entropy,tpr_entropy,threshold_entropy = roc_curve(DT_model.predict(X_test), y_test)\n",
    "roc_auc_entropy = auc(fpr_entropy,tpr_entropy)\n",
    "\n",
    "plt.title('Receiver Operating Characteristic')\n",
    "plt.plot(fpr_entropy,tpr_entropy, 'b',label = 'AUC = %0.4f' % roc_auc_entropy)\n",
    "plt.legend(loc = 'lower right')\n",
    "plt.plot([0, 1], [0, 1],'r--')\n",
    "plt.xlim([0, 1])\n",
    "plt.ylim([0, 1])\n",
    "plt.ylabel('True Positive Rate')\n",
    "plt.xlabel('False Positive Rate')\n",
    "plt.show()\n"
   ]
  },
  {
   "cell_type": "code",
   "execution_count": null,
   "metadata": {
    "colab": {
     "base_uri": "https://localhost:8080/"
    },
    "executionInfo": {
     "elapsed": 984,
     "status": "ok",
     "timestamp": 1614785108162,
     "user": {
      "displayName": "Poojitha Bhat",
      "photoUrl": "https://lh3.googleusercontent.com/a-/AOh14Gi_TYzKBVXFUb8yQHjJ0Ri0dNxl-1fYa6PMNRWtZQ=s64",
      "userId": "10185309236567782705"
     },
     "user_tz": -330
    },
    "id": "wmzF2Tf1luA0",
    "outputId": "3f11589b-51e2-49bd-c30f-d3c53bebcc0d"
   },
   "outputs": [
    {
     "name": "stdout",
     "output_type": "stream",
     "text": [
      "[0.         0.09915529 1.        ] [0.         0.89529825 1.        ] [2 1 0]\n"
     ]
    }
   ],
   "source": [
    "print(fpr_entropy,tpr_entropy,threshold_entropy)"
   ]
  },
  {
   "cell_type": "code",
   "execution_count": null,
   "metadata": {
    "colab": {
     "base_uri": "https://localhost:8080/"
    },
    "executionInfo": {
     "elapsed": 1158,
     "status": "ok",
     "timestamp": 1614785116245,
     "user": {
      "displayName": "Poojitha Bhat",
      "photoUrl": "https://lh3.googleusercontent.com/a-/AOh14Gi_TYzKBVXFUb8yQHjJ0Ri0dNxl-1fYa6PMNRWtZQ=s64",
      "userId": "10185309236567782705"
     },
     "user_tz": -330
    },
    "id": "0hN4j6y3luA3",
    "outputId": "65dee8a0-299a-406e-a940-d67fb6749bd9"
   },
   "outputs": [
    {
     "data": {
      "text/plain": [
       "array([[89689,  9872],\n",
       "       [10542, 90144]])"
      ]
     },
     "execution_count": 28,
     "metadata": {
      "tags": []
     },
     "output_type": "execute_result"
    }
   ],
   "source": [
    "confusion_matrix(DT_model.predict(X_test), y_test)"
   ]
  },
  {
   "cell_type": "markdown",
   "metadata": {
    "id": "ByiAhjbRluA5"
   },
   "source": [
    "Decision Tree model with default parameters is giving an AUC of 0.892 which is slightly better than the Logistic regression model.\n",
    "However we haven't specified the tree depth and the number of leaf nodes which might have caused the problem of overfitting.\n",
    "Let's check with the gini impurity model also."
   ]
  },
  {
   "cell_type": "code",
   "execution_count": 30,
   "metadata": {
    "executionInfo": {
     "elapsed": 6707,
     "status": "ok",
     "timestamp": 1614918936358,
     "user": {
      "displayName": "Poojitha Bhat",
      "photoUrl": "https://lh3.googleusercontent.com/a-/AOh14Gi_TYzKBVXFUb8yQHjJ0Ri0dNxl-1fYa6PMNRWtZQ=s64",
      "userId": "10185309236567782705"
     },
     "user_tz": -330
    },
    "id": "x1fydIQXluA6"
   },
   "outputs": [],
   "source": [
    "DT_gini =DecisionTreeClassifier(criterion='gini')\n",
    "DT_gini_model = DT_gini.fit(X_train , y_train)"
   ]
  },
  {
   "cell_type": "code",
   "execution_count": 34,
   "metadata": {
    "colab": {
     "base_uri": "https://localhost:8080/"
    },
    "executionInfo": {
     "elapsed": 2644,
     "status": "ok",
     "timestamp": 1614918985730,
     "user": {
      "displayName": "Poojitha Bhat",
      "photoUrl": "https://lh3.googleusercontent.com/a-/AOh14Gi_TYzKBVXFUb8yQHjJ0Ri0dNxl-1fYa6PMNRWtZQ=s64",
      "userId": "10185309236567782705"
     },
     "user_tz": -330
    },
    "id": "j2rvScZEluA8",
    "outputId": "1dcd3127-9092-4b72-f9c6-961f94258b24"
   },
   "outputs": [
    {
     "name": "stdout",
     "output_type": "stream",
     "text": [
      "Decision Trees- Gini Impurity Model performance\n",
      "Recall:  0.8953118339265002\n",
      "Accuracy:  0.8987550375286522\n",
      "Precision:  0.9028842789302675\n",
      "f1 score:  0.8990821121376235\n",
      "roc_auc:  0.8987809370888338\n"
     ]
    }
   ],
   "source": [
    "print('Decision Trees- Gini Impurity Model performance')\n",
    "print('Recall: ' ,recall_score(DT_gini_model.predict(X_test), y_test))\n",
    "print('Accuracy: ' ,accuracy_score(DT_gini_model.predict(X_test), y_test))\n",
    "print('Precision: ',precision_score(DT_gini_model.predict(X_test), y_test))\n",
    "print('f1 score: ',f1_score(DT_gini_model.predict(X_test), y_test))\n",
    "print('roc_auc: ',roc_auc_score(DT_gini_model.predict(X_test), y_test))"
   ]
  },
  {
   "cell_type": "markdown",
   "metadata": {
    "id": "Sd8eQjfwluA-"
   },
   "source": [
    "The gini impurity model performs in a similar fashion as the entropy model. Let's tune the hyperparameters and test the same.\n"
   ]
  },
  {
   "cell_type": "code",
   "execution_count": 32,
   "metadata": {
    "executionInfo": {
     "elapsed": 3432,
     "status": "ok",
     "timestamp": 1614918968266,
     "user": {
      "displayName": "Poojitha Bhat",
      "photoUrl": "https://lh3.googleusercontent.com/a-/AOh14Gi_TYzKBVXFUb8yQHjJ0Ri0dNxl-1fYa6PMNRWtZQ=s64",
      "userId": "10185309236567782705"
     },
     "user_tz": -330
    },
    "id": "wDSTZa_MluBC"
   },
   "outputs": [],
   "source": [
    "depth = [3,5,10,15,20]"
   ]
  },
  {
   "cell_type": "code",
   "execution_count": 33,
   "metadata": {
    "executionInfo": {
     "elapsed": 2508,
     "status": "ok",
     "timestamp": 1614918976508,
     "user": {
      "displayName": "Poojitha Bhat",
      "photoUrl": "https://lh3.googleusercontent.com/a-/AOh14Gi_TYzKBVXFUb8yQHjJ0Ri0dNxl-1fYa6PMNRWtZQ=s64",
      "userId": "10185309236567782705"
     },
     "user_tz": -330
    },
    "id": "qD8vN4ggluBE"
   },
   "outputs": [],
   "source": [
    "gscv =GridSearchCV(DT_gini, param_grid = {'max_depth': depth}, cv =5, scoring= 'roc_auc')"
   ]
  },
  {
   "cell_type": "code",
   "execution_count": 35,
   "metadata": {
    "executionInfo": {
     "elapsed": 58110,
     "status": "ok",
     "timestamp": 1614919053998,
     "user": {
      "displayName": "Poojitha Bhat",
      "photoUrl": "https://lh3.googleusercontent.com/a-/AOh14Gi_TYzKBVXFUb8yQHjJ0Ri0dNxl-1fYa6PMNRWtZQ=s64",
      "userId": "10185309236567782705"
     },
     "user_tz": -330
    },
    "id": "vnLiys2TluBF"
   },
   "outputs": [],
   "source": [
    "gini_model_cv = gscv.fit(X_train, y_train)"
   ]
  },
  {
   "cell_type": "code",
   "execution_count": 36,
   "metadata": {
    "colab": {
     "base_uri": "https://localhost:8080/"
    },
    "executionInfo": {
     "elapsed": 2287,
     "status": "ok",
     "timestamp": 1614919059933,
     "user": {
      "displayName": "Poojitha Bhat",
      "photoUrl": "https://lh3.googleusercontent.com/a-/AOh14Gi_TYzKBVXFUb8yQHjJ0Ri0dNxl-1fYa6PMNRWtZQ=s64",
      "userId": "10185309236567782705"
     },
     "user_tz": -330
    },
    "id": "WnEjylUqluBH",
    "outputId": "5f303655-22b5-4dc1-c6f6-527d1c92e58f"
   },
   "outputs": [
    {
     "name": "stdout",
     "output_type": "stream",
     "text": [
      "{'max_depth': 10}\n",
      "0.9726387679988872\n"
     ]
    }
   ],
   "source": [
    "print(gini_model_cv.best_params_)\n",
    "print(gini_model_cv.best_score_)"
   ]
  },
  {
   "cell_type": "markdown",
   "metadata": {
    "id": "0ev6YKMeluBJ"
   },
   "source": [
    "It's interesting to note that we are getting the best score at a depth of 10. There is a possibility that the model is overfitting. Let's test the same."
   ]
  },
  {
   "cell_type": "code",
   "execution_count": 37,
   "metadata": {
    "colab": {
     "base_uri": "https://localhost:8080/"
    },
    "executionInfo": {
     "elapsed": 7188,
     "status": "ok",
     "timestamp": 1614919077530,
     "user": {
      "displayName": "Poojitha Bhat",
      "photoUrl": "https://lh3.googleusercontent.com/a-/AOh14Gi_TYzKBVXFUb8yQHjJ0Ri0dNxl-1fYa6PMNRWtZQ=s64",
      "userId": "10185309236567782705"
     },
     "user_tz": -330
    },
    "id": "ku_kKEv9luBK",
    "outputId": "ee939c01-652d-43eb-f7b1-cf85935e1349",
    "scrolled": true
   },
   "outputs": [
    {
     "name": "stdout",
     "output_type": "stream",
     "text": [
      "Recall_Score:  0.8557360659835042\n",
      "Accuracy:  0.9051371556128182\n",
      "Precision:  0.9493572608999457\n",
      "f1 score:  0.900118831039088\n",
      "roc_auc:  0.905088603325611\n"
     ]
    }
   ],
   "source": [
    "best_gini_model = DecisionTreeClassifier(criterion = 'gini',max_depth =10)\n",
    "best_gini_model_fitted = best_gini_model.fit(X_train,y_train)\n",
    "print('Recall_Score: ' , recall_score(y_test,best_gini_model_fitted.predict(X_test) ))\n",
    "print('Accuracy: ' ,accuracy_score(y_test,best_gini_model_fitted.predict(X_test)))\n",
    "print('Precision: ',precision_score(y_test,best_gini_model_fitted.predict(X_test)))\n",
    "print('f1 score: ',f1_score(y_test,best_gini_model_fitted.predict(X_test)))\n",
    "print('roc_auc: ',roc_auc_score(y_test,best_gini_model_fitted.predict(X_test)))\n"
   ]
  },
  {
   "cell_type": "markdown",
   "metadata": {
    "id": "ETXIJNgbluBN"
   },
   "source": [
    "The model is giving an amazing accuracy of ~90% with test set and the AUC is 0.907. This seems to be a good model to work with. \n",
    "However we also see a reduction in accuracy from 97% on training set to 90% on test set. \n",
    "Let's test for any overfitting by plotting learning curve. \n"
   ]
  },
  {
   "cell_type": "code",
   "execution_count": 38,
   "metadata": {
    "executionInfo": {
     "elapsed": 26887,
     "status": "ok",
     "timestamp": 1614919128847,
     "user": {
      "displayName": "Poojitha Bhat",
      "photoUrl": "https://lh3.googleusercontent.com/a-/AOh14Gi_TYzKBVXFUb8yQHjJ0Ri0dNxl-1fYa6PMNRWtZQ=s64",
      "userId": "10185309236567782705"
     },
     "user_tz": -330
    },
    "id": "ea1s49EYtQlV"
   },
   "outputs": [],
   "source": [
    "from sklearn.model_selection import learning_curve\n",
    "train_sizes, train_scores, valid_scores = learning_curve(best_gini_model, X_train, y_train, train_sizes=np.linspace(0.1, 1.0, 5), cv=5, scoring='roc_auc',  n_jobs =-1)\n"
   ]
  },
  {
   "cell_type": "code",
   "execution_count": null,
   "metadata": {
    "id": "j7DjHMa1ULec"
   },
   "outputs": [],
   "source": [
    "mean_training = np.mean(train_scores, axis=1)\n",
    "mean_testing = np.mean(valid_scores, axis=1)\n",
    "standard_dev_training = np.std(train_scores, axis=1)\n",
    "standard_dev_testing = np.std(valid_scores, axis=1)"
   ]
  },
  {
   "cell_type": "code",
   "execution_count": null,
   "metadata": {
    "colab": {
     "base_uri": "https://localhost:8080/",
     "height": 297
    },
    "executionInfo": {
     "elapsed": 1029,
     "status": "ok",
     "timestamp": 1614880567943,
     "user": {
      "displayName": "Poojitha Bhat",
      "photoUrl": "https://lh3.googleusercontent.com/a-/AOh14Gi_TYzKBVXFUb8yQHjJ0Ri0dNxl-1fYa6PMNRWtZQ=s64",
      "userId": "10185309236567782705"
     },
     "user_tz": -330
    },
    "id": "8SV3LXh1yoxG",
    "outputId": "403a76e9-cf50-4ba3-99c7-34bb4363363d"
   },
   "outputs": [
    {
     "data": {
      "image/png": "[encoded data removed]",
      "text/plain": [
       "<Figure size 432x288 with 1 Axes>"
      ]
     },
     "metadata": {
      "needs_background": "light",
      "tags": []
     },
     "output_type": "display_data"
    }
   ],
   "source": [
    "import matplotlib\n",
    "from matplotlib import pyplot as plt\n",
    "plt.plot(train_sizes, mean_training, '--', color=\"b\",  label=\"Training score\") \n",
    "plt.plot(train_sizes, mean_testing, color=\"g\", label=\"Cross-validation score\") \n",
    "  \n",
    "# Drawing plot \n",
    "plt.title(\"LEARNING CURVE FOR Decision Trees\") \n",
    "plt.xlabel(\"Training Set Size\"), plt.ylabel(\"ROC AUC Score\"), plt.legend(loc=\"best\") \n",
    "plt.tight_layout() \n",
    "plt.show()\n"
   ]
  },
  {
   "cell_type": "markdown",
   "metadata": {
    "id": "U4_-uZJfXN15"
   },
   "source": [
    "The learning curves for training set and validation set are seen to converge as more data gets added.  The model is seen to have a low bias(considering the training scores) and a moderate variance(considering how the curves are converging)"
   ]
  },
  {
   "cell_type": "code",
   "execution_count": 39,
   "metadata": {
    "executionInfo": {
     "elapsed": 2312,
     "status": "ok",
     "timestamp": 1614919138335,
     "user": {
      "displayName": "Poojitha Bhat",
      "photoUrl": "https://lh3.googleusercontent.com/a-/AOh14Gi_TYzKBVXFUb8yQHjJ0Ri0dNxl-1fYa6PMNRWtZQ=s64",
      "userId": "10185309236567782705"
     },
     "user_tz": -330
    },
    "id": "48cWC4SvluBO"
   },
   "outputs": [],
   "source": [
    "gscv_entropy =GridSearchCV(DT_gini, param_grid = {'max_depth': depth}, cv =5, scoring= 'roc_auc')"
   ]
  },
  {
   "cell_type": "code",
   "execution_count": 40,
   "metadata": {
    "executionInfo": {
     "elapsed": 57600,
     "status": "ok",
     "timestamp": 1614919203456,
     "user": {
      "displayName": "Poojitha Bhat",
      "photoUrl": "https://lh3.googleusercontent.com/a-/AOh14Gi_TYzKBVXFUb8yQHjJ0Ri0dNxl-1fYa6PMNRWtZQ=s64",
      "userId": "10185309236567782705"
     },
     "user_tz": -330
    },
    "id": "aYeCQiGaluBQ"
   },
   "outputs": [],
   "source": [
    "entropy_model_cv = gscv_entropy.fit(X_train,y_train)"
   ]
  },
  {
   "cell_type": "code",
   "execution_count": 41,
   "metadata": {
    "colab": {
     "base_uri": "https://localhost:8080/"
    },
    "executionInfo": {
     "elapsed": 1073,
     "status": "ok",
     "timestamp": 1614919210481,
     "user": {
      "displayName": "Poojitha Bhat",
      "photoUrl": "https://lh3.googleusercontent.com/a-/AOh14Gi_TYzKBVXFUb8yQHjJ0Ri0dNxl-1fYa6PMNRWtZQ=s64",
      "userId": "10185309236567782705"
     },
     "user_tz": -330
    },
    "id": "oi2vbtYcluBR",
    "outputId": "133ebbef-2544-47a0-93be-5edba6c3a2a0"
   },
   "outputs": [
    {
     "name": "stdout",
     "output_type": "stream",
     "text": [
      "{'max_depth': 10}\n",
      "0.9726566558913736\n"
     ]
    }
   ],
   "source": [
    "print(entropy_model_cv.best_params_)\n",
    "print(entropy_model_cv.best_score_)"
   ]
  },
  {
   "cell_type": "markdown",
   "metadata": {
    "id": "5Nx-oVqEluBT"
   },
   "source": [
    "The entropy model is performing well on the training dataset.\n",
    "Let's check the performance on test dataset with the same parameters."
   ]
  },
  {
   "cell_type": "code",
   "execution_count": 42,
   "metadata": {
    "colab": {
     "base_uri": "https://localhost:8080/"
    },
    "executionInfo": {
     "elapsed": 4841,
     "status": "ok",
     "timestamp": 1614919222438,
     "user": {
      "displayName": "Poojitha Bhat",
      "photoUrl": "https://lh3.googleusercontent.com/a-/AOh14Gi_TYzKBVXFUb8yQHjJ0Ri0dNxl-1fYa6PMNRWtZQ=s64",
      "userId": "10185309236567782705"
     },
     "user_tz": -330
    },
    "id": "7bK036GBluBV",
    "outputId": "17149016-5fc7-4a3e-ca55-3d234c099bb9"
   },
   "outputs": [
    {
     "name": "stdout",
     "output_type": "stream",
     "text": [
      "Recall:  0.8555561109722569\n",
      "Accuracy:  0.9049823468016999\n",
      "Precision:  0.9492102577754115\n",
      "f1 score:  0.8999532024755365\n",
      "roc_auc:  0.9049337698003509\n"
     ]
    }
   ],
   "source": [
    "entropy_model = DecisionTreeClassifier(criterion = 'entropy',max_depth =10)\n",
    "entropy_model_fitted = entropy_model.fit(X_train, y_train)\n",
    "print('Recall: ', recall_score(y_test,entropy_model_fitted.predict(X_test) ))\n",
    "print('Accuracy: ' ,accuracy_score(y_test,entropy_model_fitted.predict(X_test)))\n",
    "print('Precision: ',precision_score(y_test,entropy_model_fitted.predict(X_test)))\n",
    "print('f1 score: ',f1_score(y_test,entropy_model_fitted.predict(X_test)))\n",
    "print('roc_auc: ',roc_auc_score(y_test,entropy_model_fitted.predict(X_test)))"
   ]
  },
  {
   "cell_type": "code",
   "execution_count": 43,
   "metadata": {
    "executionInfo": {
     "elapsed": 27645,
     "status": "ok",
     "timestamp": 1614919256548,
     "user": {
      "displayName": "Poojitha Bhat",
      "photoUrl": "https://lh3.googleusercontent.com/a-/AOh14Gi_TYzKBVXFUb8yQHjJ0Ri0dNxl-1fYa6PMNRWtZQ=s64",
      "userId": "10185309236567782705"
     },
     "user_tz": -330
    },
    "id": "-aRSPt0CXkYT"
   },
   "outputs": [],
   "source": [
    "sizes, train_scores, valid_scores = learning_curve(entropy_model, X_train, y_train, train_sizes=np.linspace(0.1, 1.0, 5), cv=5, scoring='roc_auc',  n_jobs =-1)"
   ]
  },
  {
   "cell_type": "code",
   "execution_count": null,
   "metadata": {
    "colab": {
     "base_uri": "https://localhost:8080/",
     "height": 297
    },
    "executionInfo": {
     "elapsed": 1012,
     "status": "ok",
     "timestamp": 1614881436263,
     "user": {
      "displayName": "Poojitha Bhat",
      "photoUrl": "https://lh3.googleusercontent.com/a-/AOh14Gi_TYzKBVXFUb8yQHjJ0Ri0dNxl-1fYa6PMNRWtZQ=s64",
      "userId": "10185309236567782705"
     },
     "user_tz": -330
    },
    "id": "FQNEIZTHbePe",
    "outputId": "1835fd68-8e76-4ec5-9be3-9c015250323f"
   },
   "outputs": [
    {
     "data": {
      "image/png": "[encoded data removed]",
      "text/plain": [
       "<Figure size 432x288 with 1 Axes>"
      ]
     },
     "metadata": {
      "needs_background": "light",
      "tags": []
     },
     "output_type": "display_data"
    }
   ],
   "source": [
    "mean_training = np.mean(train_scores, axis=1)\n",
    "mean_testing = np.mean(valid_scores, axis=1)\n",
    "\n",
    "plt.plot(train_sizes, mean_training, '--', color=\"b\",  label=\"Training score\") \n",
    "plt.plot(train_sizes, mean_testing, color=\"g\", label=\"Cross-validation score\") \n",
    "  \n",
    "# Drawing plot \n",
    "plt.title(\"LEARNING CURVE FOR Decision Trees- Entropy model\") \n",
    "plt.xlabel(\"Training Set Size\"), plt.ylabel(\"ROC AUC Score\"), plt.legend(loc=\"best\") \n",
    "plt.tight_layout() \n",
    "plt.show()"
   ]
  },
  {
   "cell_type": "markdown",
   "metadata": {
    "id": "1DMsjuEeluBX"
   },
   "source": [
    "Both Entropy and Gini models are performing equally well and are seen to have similar learning curves."
   ]
  },
  {
   "cell_type": "code",
   "execution_count": 44,
   "metadata": {
    "colab": {
     "base_uri": "https://localhost:8080/",
     "height": 295
    },
    "executionInfo": {
     "elapsed": 1424,
     "status": "ok",
     "timestamp": 1614919456313,
     "user": {
      "displayName": "Poojitha Bhat",
      "photoUrl": "https://lh3.googleusercontent.com/a-/AOh14Gi_TYzKBVXFUb8yQHjJ0Ri0dNxl-1fYa6PMNRWtZQ=s64",
      "userId": "10185309236567782705"
     },
     "user_tz": -330
    },
    "id": "qQVhG5elluBY",
    "outputId": "e03807e8-dfb1-46cf-8d22-72cacbe9c85e"
   },
   "outputs": [
    {
     "data": {
      "image/png": "[encoded data removed]",
      "text/plain": [
       "<Figure size 432x288 with 1 Axes>"
      ]
     },
     "metadata": {
      "needs_background": "light",
      "tags": []
     },
     "output_type": "display_data"
    }
   ],
   "source": [
    "fpr_entropy_opt,tpr_entropy_opt,threshold_entropy_opt = roc_curve(entropy_model_fitted.predict(X_test), y_test)\n",
    "roc_auc_entropy_opt = auc(fpr_entropy_opt,tpr_entropy_opt)\n",
    "\n",
    "fpr_gini_opt,tpr_gini_opt,threshold_gini_opt = roc_curve(best_gini_model_fitted.predict(X_test), y_test)\n",
    "roc_auc_gini_opt = auc(fpr_entropy_opt,tpr_entropy_opt)\n",
    "\n",
    "plt.title('Receiver Operating Characteristic')\n",
    "plt.plot(fpr_entropy_opt,tpr_entropy_opt, 'b',label = 'AUC = %0.4f' % roc_auc_entropy_opt)\n",
    "plt.plot(fpr_gini_opt,tpr_gini_opt, 'g',label = 'AUC = %0.4f' % roc_auc_gini_opt)\n",
    "plt.legend(loc = 'lower right')\n",
    "plt.plot([0, 1], [0, 1],'r--')\n",
    "plt.xlim([0, 1])\n",
    "plt.ylim([0, 1])\n",
    "plt.ylabel('True Positive Rate')\n",
    "plt.xlabel('False Positive Rate')\n",
    "plt.show()"
   ]
  },
  {
   "cell_type": "markdown",
   "metadata": {
    "id": "4tkAeIBRluBa"
   },
   "source": [
    "## Random Forest Classifier"
   ]
  },
  {
   "cell_type": "code",
   "execution_count": null,
   "metadata": {
    "id": "LB1ddgfwluBd"
   },
   "outputs": [],
   "source": [
    "rfc = RandomForestClassifier(n_estimators=10) "
   ]
  },
  {
   "cell_type": "code",
   "execution_count": null,
   "metadata": {
    "id": "xUfvbziqluBe"
   },
   "outputs": [],
   "source": [
    "rfc_model = rfc.fit(X_train, y_train)"
   ]
  },
  {
   "cell_type": "code",
   "execution_count": null,
   "metadata": {
    "colab": {
     "base_uri": "https://localhost:8080/"
    },
    "executionInfo": {
     "elapsed": 4411,
     "status": "ok",
     "timestamp": 1614518032748,
     "user": {
      "displayName": "Poojitha Bhat",
      "photoUrl": "https://lh3.googleusercontent.com/a-/AOh14Gi_TYzKBVXFUb8yQHjJ0Ri0dNxl-1fYa6PMNRWtZQ=s64",
      "userId": "10185309236567782705"
     },
     "user_tz": -330
    },
    "id": "205mrl18luBg",
    "outputId": "e07cf1ac-52e1-4483-905a-45ff27bd9016",
    "scrolled": true
   },
   "outputs": [
    {
     "name": "stdout",
     "output_type": "stream",
     "text": [
      "Random Forest Classifier\n",
      "Recall:  0.8927332881572129\n",
      "Accuracy:  0.9081434428480826\n",
      "Precision:  0.9215133622729237\n",
      "f1 score:  0.9068950506676384\n",
      "roc score:  0.9081780736224457\n"
     ]
    }
   ],
   "source": [
    "print('Random Forest Classifier')\n",
    "print('Recall: ' , recall_score(y_test, rfc_model.predict(X_test) ))\n",
    "print('Accuracy: ' , accuracy_score(y_test, rfc_model.predict(X_test) ))\n",
    "print('Precision: ' , precision_score(y_test, rfc_model.predict(X_test) ))\n",
    "print('f1 score: ' , f1_score(y_test, rfc_model.predict(X_test) ))\n",
    "print('roc score: ' , roc_auc_score(y_test, rfc_model.predict(X_test) ))"
   ]
  },
  {
   "cell_type": "code",
   "execution_count": null,
   "metadata": {
    "id": "qseoqWzJluBi"
   },
   "outputs": [],
   "source": [
    "rfc = RandomForestClassifier() \n",
    "estimators = [25,50,100,150]\n",
    "features =[10,20,30,40]\n",
    "gridsearch_rf= GridSearchCV(rfc, param_grid = {'n_estimators': estimators, 'max_features':features}, cv =5, n_jobs =-1, scoring= 'roc_auc')"
   ]
  },
  {
   "cell_type": "code",
   "execution_count": null,
   "metadata": {
    "colab": {
     "base_uri": "https://localhost:8080/"
    },
    "executionInfo": {
     "elapsed": 7067078,
     "status": "ok",
     "timestamp": 1614525238733,
     "user": {
      "displayName": "Poojitha Bhat",
      "photoUrl": "https://lh3.googleusercontent.com/a-/AOh14Gi_TYzKBVXFUb8yQHjJ0Ri0dNxl-1fYa6PMNRWtZQ=s64",
      "userId": "10185309236567782705"
     },
     "user_tz": -330
    },
    "id": "SAyJwmRYluBj",
    "outputId": "4fb51751-465f-4363-8922-fd97c36c6d12"
   },
   "outputs": [
    {
     "name": "stderr",
     "output_type": "stream",
     "text": [
      "/usr/local/lib/python3.7/dist-packages/joblib/externals/loky/process_executor.py:691: UserWarning: A worker stopped while some jobs were given to the executor. This can be caused by a too short worker timeout or by a memory leak.\n",
      "  \"timeout or by a memory leak.\", UserWarning\n"
     ]
    }
   ],
   "source": [
    "rf_gs= gridsearch_rf.fit(X_train,y_train)"
   ]
  },
  {
   "cell_type": "code",
   "execution_count": null,
   "metadata": {
    "colab": {
     "base_uri": "https://localhost:8080/"
    },
    "executionInfo": {
     "elapsed": 940,
     "status": "ok",
     "timestamp": 1614526547288,
     "user": {
      "displayName": "Poojitha Bhat",
      "photoUrl": "https://lh3.googleusercontent.com/a-/AOh14Gi_TYzKBVXFUb8yQHjJ0Ri0dNxl-1fYa6PMNRWtZQ=s64",
      "userId": "10185309236567782705"
     },
     "user_tz": -330
    },
    "id": "2oYzsTELluBl",
    "outputId": "1f1bf5e2-744a-41d6-8a67-01b7ed2dc499"
   },
   "outputs": [
    {
     "name": "stdout",
     "output_type": "stream",
     "text": [
      "{'max_features': 40, 'n_estimators': 150} 0.9741215006578428\n"
     ]
    }
   ],
   "source": [
    "print(rf_gs.best_params_,rf_gs.best_score_)"
   ]
  },
  {
   "cell_type": "code",
   "execution_count": null,
   "metadata": {
    "id": "ceOuKvoXluBo"
   },
   "outputs": [],
   "source": [
    "rf_gs= gridsearch_rf.fit(X_train,y_train)\n",
    "print(rf_gs.best_params_,rf_gs.best_score_)"
   ]
  },
  {
   "cell_type": "markdown",
   "metadata": {
    "id": "ULS7H9mVluBp"
   },
   "source": [
    "The random forest classifier is giving a higher AUC of 0.97 in comparison to the Decision Trees.\n",
    "Let's test this model on the test set."
   ]
  },
  {
   "cell_type": "code",
   "execution_count": 51,
   "metadata": {
    "executionInfo": {
     "elapsed": 8147,
     "status": "ok",
     "timestamp": 1614920547297,
     "user": {
      "displayName": "Poojitha Bhat",
      "photoUrl": "https://lh3.googleusercontent.com/a-/AOh14Gi_TYzKBVXFUb8yQHjJ0Ri0dNxl-1fYa6PMNRWtZQ=s64",
      "userId": "10185309236567782705"
     },
     "user_tz": -330
    },
    "id": "vI3RrjRBw9HF"
   },
   "outputs": [],
   "source": [
    "fpr_rfc_best,tpr_rfc_best,threshold_rfc_best = roc_curve(rfc_model.predict(X_test),y_test)\n",
    "roc_auc_rfc_best = auc(fpr_rfc_best,tpr_rfc_best)"
   ]
  },
  {
   "cell_type": "code",
   "execution_count": null,
   "metadata": {
    "colab": {
     "base_uri": "https://localhost:8080/"
    },
    "executionInfo": {
     "elapsed": 456717,
     "status": "ok",
     "timestamp": 1614527159236,
     "user": {
      "displayName": "Poojitha Bhat",
      "photoUrl": "https://lh3.googleusercontent.com/a-/AOh14Gi_TYzKBVXFUb8yQHjJ0Ri0dNxl-1fYa6PMNRWtZQ=s64",
      "userId": "10185309236567782705"
     },
     "user_tz": -330
    },
    "id": "E2Z0gO3PluBs",
    "outputId": "c4915924-303f-4569-dacb-1241b79db2e7"
   },
   "outputs": [
    {
     "name": "stdout",
     "output_type": "stream",
     "text": [
      "Random Forest Classifier- Performance\n",
      "Recall:  0.8893251484832781\n",
      "Accuracy:  0.9148851168806524\n",
      "Precision:  0.9376129438957764\n",
      "f1 score:  0.9128308988993904\n",
      "roc_auc:  0.9149425570242494\n"
     ]
    }
   ],
   "source": [
    "rfc_best= RandomForestClassifier(n_estimators= 150, max_features= 40) \n",
    "rfc_best_fitted = rfc_best.fit(X_train, y_train)\n",
    "print('Random Forest Classifier- Performance')\n",
    "print('Recall: ', recall_score(y_test,rfc_best_fitted.predict(X_test)))\n",
    "print('Accuracy: ' ,accuracy_score(y_test,rfc_best_fitted.predict(X_test)))\n",
    "print('Precision: ',precision_score(y_test,rfc_best_fitted.predict(X_test)))\n",
    "print('f1 score: ',f1_score(y_test,rfc_best_fitted.predict(X_test)))\n",
    "print('roc_auc: ',roc_auc_score(y_test,rfc_best_fitted.predict(X_test)))"
   ]
  },
  {
   "cell_type": "markdown",
   "metadata": {
    "id": "ot-BdHnCluBt"
   },
   "source": [
    "The AUC of Random Forest is at par with Decision trees. Recall and Accuracy are better. While Precision is seen to be lower."
   ]
  },
  {
   "cell_type": "markdown",
   "metadata": {
    "id": "LUry87seluBu"
   },
   "source": [
    "## Gradient Boosting Classifier"
   ]
  },
  {
   "cell_type": "code",
   "execution_count": 45,
   "metadata": {
    "colab": {
     "base_uri": "https://localhost:8080/"
    },
    "executionInfo": {
     "elapsed": 376536,
     "status": "ok",
     "timestamp": 1614919974027,
     "user": {
      "displayName": "Poojitha Bhat",
      "photoUrl": "https://lh3.googleusercontent.com/a-/AOh14Gi_TYzKBVXFUb8yQHjJ0Ri0dNxl-1fYa6PMNRWtZQ=s64",
      "userId": "10185309236567782705"
     },
     "user_tz": -330
    },
    "id": "5gdnH-ryluBv",
    "outputId": "da9f4e06-8bf3-42ed-ed16-d308733e9695"
   },
   "outputs": [
    {
     "name": "stdout",
     "output_type": "stream",
     "text": [
      "best_learning_rate is: 0.5\n",
      "best_estimator is: 150\n"
     ]
    }
   ],
   "source": [
    "learning_rates = [0.05, 0.1, 0.25, 0.5, 0.75, 1, 1.25, 1.5, 1.75, 2]\n",
    "estimators = [10,25,50,100,150]\n",
    "max_roc_score =0\n",
    "for learning_rate in learning_rates:\n",
    "  for estimator in estimators:\n",
    "    gb = GradientBoostingClassifier(n_estimators=estimator, learning_rate = learning_rate, max_features=2, random_state = 42, max_depth = 2)\n",
    "    gb_model = gb.fit(X_train, y_train)\n",
    "    score = roc_auc_score(gb_model.predict(X_test), y_test)\n",
    "    if score > max_roc_score:\n",
    "      best_learning_rate = learning_rate\n",
    "      best_estimator = estimator\n",
    "      max_roc_score = score\n",
    "\n",
    "    \n",
    "print('best_learning_rate is:', best_learning_rate)\n",
    "print('best_estimator is:', best_estimator )"
   ]
  },
  {
   "cell_type": "code",
   "execution_count": 46,
   "metadata": {
    "colab": {
     "base_uri": "https://localhost:8080/"
    },
    "executionInfo": {
     "elapsed": 1055,
     "status": "ok",
     "timestamp": 1614920000003,
     "user": {
      "displayName": "Poojitha Bhat",
      "photoUrl": "https://lh3.googleusercontent.com/a-/AOh14Gi_TYzKBVXFUb8yQHjJ0Ri0dNxl-1fYa6PMNRWtZQ=s64",
      "userId": "10185309236567782705"
     },
     "user_tz": -330
    },
    "id": "FO_yHaGICeYx",
    "outputId": "8a0de4c3-9b08-4ebc-ef9e-384d28aeb2f3"
   },
   "outputs": [
    {
     "data": {
      "text/plain": [
       "0.9362567417366444"
      ]
     },
     "execution_count": 46,
     "metadata": {
      "tags": []
     },
     "output_type": "execute_result"
    }
   ],
   "source": [
    "max_roc_score"
   ]
  },
  {
   "cell_type": "code",
   "execution_count": 47,
   "metadata": {
    "executionInfo": {
     "elapsed": 19190,
     "status": "ok",
     "timestamp": 1614920042148,
     "user": {
      "displayName": "Poojitha Bhat",
      "photoUrl": "https://lh3.googleusercontent.com/a-/AOh14Gi_TYzKBVXFUb8yQHjJ0Ri0dNxl-1fYa6PMNRWtZQ=s64",
      "userId": "10185309236567782705"
     },
     "user_tz": -330
    },
    "id": "HAl6N1utluBz"
   },
   "outputs": [],
   "source": [
    "gb = GradientBoostingClassifier(n_estimators=150, learning_rate = 0.5, max_features=2, max_depth = 2, random_state = 0)\n",
    "gb_model = gb.fit(X_train, y_train)\n",
    "fpr_gb_best,tpr_gb_best,threshold_gb_best = roc_curve(gb_model.predict(X_test),y_test)\n",
    "roc_auc_gb_best = auc(fpr_gb_best,tpr_gb_best)\n"
   ]
  },
  {
   "cell_type": "code",
   "execution_count": 48,
   "metadata": {
    "colab": {
     "base_uri": "https://localhost:8080/"
    },
    "executionInfo": {
     "elapsed": 1045,
     "status": "ok",
     "timestamp": 1614920049708,
     "user": {
      "displayName": "Poojitha Bhat",
      "photoUrl": "https://lh3.googleusercontent.com/a-/AOh14Gi_TYzKBVXFUb8yQHjJ0Ri0dNxl-1fYa6PMNRWtZQ=s64",
      "userId": "10185309236567782705"
     },
     "user_tz": -330
    },
    "id": "3EORAAiYCTg5",
    "outputId": "33635cef-4750-4832-dec5-da974341471a",
    "scrolled": true
   },
   "outputs": [
    {
     "data": {
      "text/plain": [
       "0.9342131761878961"
      ]
     },
     "execution_count": 48,
     "metadata": {
      "tags": []
     },
     "output_type": "execute_result"
    }
   ],
   "source": [
    "roc_auc_gb_best"
   ]
  },
  {
   "cell_type": "code",
   "execution_count": 55,
   "metadata": {
    "colab": {
     "base_uri": "https://localhost:8080/"
    },
    "executionInfo": {
     "elapsed": 1548,
     "status": "ok",
     "timestamp": 1614921588879,
     "user": {
      "displayName": "Poojitha Bhat",
      "photoUrl": "https://lh3.googleusercontent.com/a-/AOh14Gi_TYzKBVXFUb8yQHjJ0Ri0dNxl-1fYa6PMNRWtZQ=s64",
      "userId": "10185309236567782705"
     },
     "user_tz": -330
    },
    "id": "206a3MgIluB0",
    "outputId": "66051ab4-080d-404b-e82f-d030b68f406c",
    "scrolled": true
   },
   "outputs": [
    {
     "name": "stdout",
     "output_type": "stream",
     "text": [
      "Accuracy score 0.9275245072335665\n",
      "Precision score:  0.8655436140964758\n",
      "Recall score:  0.9878594249201278\n",
      "Roc score:  0.9342131761878961\n"
     ]
    }
   ],
   "source": [
    "gb_y = gb_model.predict(X_test)\n",
    "\n",
    "print(\"Accuracy score\",accuracy_score(gb_y, y_test))\n",
    "print(\"Precision score: \", precision_score(gb_y, y_test))\n",
    "print(\"Recall score: \", recall_score(gb_y, y_test))\n",
    "print(\"Roc score: \", roc_auc_score(gb_y, y_test))"
   ]
  },
  {
   "cell_type": "markdown",
   "metadata": {
    "id": "kYzqPn-hluBx"
   },
   "source": [
    "The model seems to be performing well in terms of roc score for a learning rate of 0.5 and 150 estimators.  The recall is high at 0.98 and the precision low at 0.86 which is an indicator of the model leaning towards more false positives."
   ]
  },
  {
   "cell_type": "markdown",
   "metadata": {
    "id": "aDmjgqgXluBy"
   },
   "source": [
    "Support Vector classifier could not be used due to large size of the dataset and high memory usage.\n",
    "\n",
    "Of all the models trained above, Decision trees seem to be the best in terms of Roc as well as recall.\n",
    "Let's represent a comparison of all the models visually."
   ]
  },
  {
   "cell_type": "code",
   "execution_count": 54,
   "metadata": {
    "colab": {
     "base_uri": "https://localhost:8080/",
     "height": 295
    },
    "executionInfo": {
     "elapsed": 1237,
     "status": "ok",
     "timestamp": 1614920903209,
     "user": {
      "displayName": "Poojitha Bhat",
      "photoUrl": "https://lh3.googleusercontent.com/a-/AOh14Gi_TYzKBVXFUb8yQHjJ0Ri0dNxl-1fYa6PMNRWtZQ=s64",
      "userId": "10185309236567782705"
     },
     "user_tz": -330
    },
    "id": "F6JpAsseluB1",
    "outputId": "e6e5500d-e4a9-4428-d967-65e8490a4c1d"
   },
   "outputs": [
    {
     "data": {
      "image/png": "[encoded data removed]",
      "text/plain": [
       "<Figure size 432x288 with 1 Axes>"
      ]
     },
     "metadata": {
      "needs_background": "light",
      "tags": []
     },
     "output_type": "display_data"
    }
   ],
   "source": [
    "plt.title('Receiver Operating Characteristic')\n",
    "plt.plot(fpr_entropy_opt,tpr_entropy_opt, 'b',label = 'AUC_decision_entropy = %0.4f' % roc_auc_entropy_opt)\n",
    "plt.plot(fpr_gini_opt,tpr_gini_opt, 'g',label = 'AUC_decision_gini = %0.4f' % roc_auc_gini_opt)\n",
    "plt.plot(fpr_gb_best,tpr_gb_best, 'c',label = 'AUC_gradientboosting = %0.4f' % roc_auc_gb_best)\n",
    "plt.plot(fpr_rfc_best,tpr_rfc_best, 'y',label = 'AUC_randomforest = %0.4f' % roc_auc_rfc_best)\n",
    "plt.plot(fpr_logreg_best,tpr_logreg_best, 'r',label = 'AUC_logreg = %0.4f' % roc_auc_logreg_best)\n",
    "plt.legend(loc = 'lower right')\n",
    "plt.plot([0, 1], [0, 1],'r--')\n",
    "plt.xlim([0, 1])\n",
    "plt.ylim([0, 1])\n",
    "plt.ylabel('True Positive Rate')\n",
    "plt.xlabel('False Positive Rate')\n",
    "plt.show()"
   ]
  },
  {
   "cell_type": "code",
   "execution_count": 24,
   "metadata": {},
   "outputs": [
    {
     "data": {
      "text/html": [
       "<div>\n",
       "<style scoped>\n",
       "    .dataframe tbody tr th:only-of-type {\n",
       "        vertical-align: middle;\n",
       "    }\n",
       "\n",
       "    .dataframe tbody tr th {\n",
       "        vertical-align: top;\n",
       "    }\n",
       "\n",
       "    .dataframe thead th {\n",
       "        text-align: right;\n",
       "    }\n",
       "</style>\n",
       "<table border=\"1\" class=\"dataframe\">\n",
       "  <thead>\n",
       "    <tr style=\"text-align: right;\">\n",
       "      <th></th>\n",
       "      <th>Precision</th>\n",
       "      <th>Recall</th>\n",
       "      <th>Accuracy</th>\n",
       "      <th>Roc_Auc_score</th>\n",
       "    </tr>\n",
       "  </thead>\n",
       "  <tbody>\n",
       "    <tr>\n",
       "      <th>Gradient Boosting</th>\n",
       "      <td>0.8700</td>\n",
       "      <td>0.987</td>\n",
       "      <td>0.920</td>\n",
       "      <td>0.930</td>\n",
       "    </tr>\n",
       "    <tr>\n",
       "      <th>Random Forest</th>\n",
       "      <td>0.9370</td>\n",
       "      <td>0.890</td>\n",
       "      <td>0.914</td>\n",
       "      <td>0.915</td>\n",
       "    </tr>\n",
       "    <tr>\n",
       "      <th>Decision Trees-Entropy</th>\n",
       "      <td>0.9490</td>\n",
       "      <td>0.856</td>\n",
       "      <td>0.905</td>\n",
       "      <td>0.905</td>\n",
       "    </tr>\n",
       "    <tr>\n",
       "      <th>Decision Trees-Gini</th>\n",
       "      <td>0.9490</td>\n",
       "      <td>0.856</td>\n",
       "      <td>0.905</td>\n",
       "      <td>0.905</td>\n",
       "    </tr>\n",
       "    <tr>\n",
       "      <th>Logistic reg</th>\n",
       "      <td>0.8824</td>\n",
       "      <td>0.846</td>\n",
       "      <td>0.861</td>\n",
       "      <td>0.862</td>\n",
       "    </tr>\n",
       "  </tbody>\n",
       "</table>\n",
       "</div>"
      ],
      "text/plain": [
       "                        Precision  Recall  Accuracy  Roc_Auc_score\n",
       "Gradient Boosting          0.8700   0.987     0.920          0.930\n",
       "Random Forest              0.9370   0.890     0.914          0.915\n",
       "Decision Trees-Entropy     0.9490   0.856     0.905          0.905\n",
       "Decision Trees-Gini        0.9490   0.856     0.905          0.905\n",
       "Logistic reg               0.8824   0.846     0.861          0.862"
      ]
     },
     "execution_count": 24,
     "metadata": {},
     "output_type": "execute_result"
    }
   ],
   "source": [
    "pd.DataFrame(dict({'Precision':[0.87, 0.937,0.949,0.949, 0.8824 ], 'Recall': [0.987, 0.89, 0.856,0.856, 0.846  ], 'Accuracy' : [0.92, 0.914, 0.905, 0.905, 0.861], 'Roc_Auc_score' :[0.93, 0.915, 0.905, 0.905, 0.862 ]}), index = ['Gradient Boosting', 'Random Forest', 'Decision Trees-Entropy', 'Decision Trees-Gini', 'Logistic reg' ])"
   ]
  },
  {
   "cell_type": "markdown",
   "metadata": {
    "id": "qrZha3_Syi3j"
   },
   "source": [
    "Gradient Boosting is seen to have the highest area under the curve but is having more false positives for a higher number of True positives. \n",
    "\n",
    "Random Forest having a slightly lower AUC. It is classifying True positives and a smaller rate of False positives.\n",
    "\n",
    "In case of Insurance leads, a False positive only leads to a customer who is less likely to respond to a cross sale lead. Hence we are OK with a higher True positive rate at the cost of a small False negative rate. "
   ]
  },
  {
   "cell_type": "markdown",
   "metadata": {
    "id": "VOH-AO55luB3"
   },
   "source": [
    "## Observation and Conclusion:\n",
    "\n",
    "Gradient Boosting can be seen outperforming its counterparts in terms of AUC and Recall . The True positive rate is higher at the cost of a slightly high False negative rate in comparison with the remaining models.\n",
    "\n",
    "Hence Gradient Boosting can be considered for Predicting the responses of the customers based on their profiling."
   ]
  }
 ],
 "metadata": {
  "colab": {
   "collapsed_sections": [],
   "name": "Modeling.ipynb",
   "provenance": [],
   "toc_visible": true
  },
  "kernelspec": {
   "display_name": "Python 3",
   "language": "python",
   "name": "python3"
  },
  "language_info": {
   "codemirror_mode": {
    "name": "ipython",
    "version": 3
   },
   "file_extension": ".py",
   "mimetype": "text/x-python",
   "name": "python",
   "nbconvert_exporter": "python",
   "pygments_lexer": "ipython3",
   "version": "3.7.1"
  }
 },
 "nbformat": 4,
 "nbformat_minor": 1
}
